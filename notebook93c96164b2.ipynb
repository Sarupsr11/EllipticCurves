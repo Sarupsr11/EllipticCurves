{
 "cells": [
  {
   "cell_type": "code",
   "execution_count": 1,
   "id": "aa1503aa",
   "metadata": {
    "_cell_guid": "b1076dfc-b9ad-4769-8c92-a6c4dae69d19",
    "_uuid": "8f2839f25d086af736a60e9eeb907d3b93b6e0e5",
    "execution": {
     "iopub.execute_input": "2024-08-26T19:37:18.774098Z",
     "iopub.status.busy": "2024-08-26T19:37:18.773179Z",
     "iopub.status.idle": "2024-08-26T19:37:19.624872Z",
     "shell.execute_reply": "2024-08-26T19:37:19.623850Z"
    },
    "papermill": {
     "duration": 0.87142,
     "end_time": "2024-08-26T19:37:19.627330",
     "exception": false,
     "start_time": "2024-08-26T19:37:18.755910",
     "status": "completed"
    },
    "tags": []
   },
   "outputs": [
    {
     "name": "stdout",
     "output_type": "stream",
     "text": [
      "/kaggle/input/titanic/train.csv\n",
      "/kaggle/input/titanic/test.csv\n",
      "/kaggle/input/titanic/gender_submission.csv\n"
     ]
    }
   ],
   "source": [
    "# This Python 3 environment comes with many helpful analytics libraries installed\n",
    "# It is defined by the kaggle/python Docker image: https://github.com/kaggle/docker-python\n",
    "# For example, here's several helpful packages to load\n",
    "\n",
    "import numpy as np # linear algebra\n",
    "import pandas as pd # data processing, CSV file I/O (e.g. pd.read_csv)\n",
    "\n",
    "# Input data files are available in the read-only \"../input/\" directory\n",
    "# For example, running this (by clicking run or pressing Shift+Enter) will list all files under the input directory\n",
    "\n",
    "import os\n",
    "for dirname, _, filenames in os.walk('/kaggle/input'):\n",
    "    for filename in filenames:\n",
    "        print(os.path.join(dirname, filename))\n",
    "\n",
    "# You can write up to 20GB to the current directory (/kaggle/working/) that gets preserved as output when you create a version using \"Save & Run All\" \n",
    "# You can also write temporary files to /kaggle/temp/, but they won't be saved outside of the current session"
   ]
  },
  {
   "cell_type": "markdown",
   "id": "ad4a260c",
   "metadata": {
    "papermill": {
     "duration": 0.016264,
     "end_time": "2024-08-26T19:37:19.659125",
     "exception": false,
     "start_time": "2024-08-26T19:37:19.642861",
     "status": "completed"
    },
    "tags": []
   },
   "source": []
  },
  {
   "cell_type": "markdown",
   "id": "9792a249",
   "metadata": {
    "papermill": {
     "duration": 0.015254,
     "end_time": "2024-08-26T19:37:19.689886",
     "exception": false,
     "start_time": "2024-08-26T19:37:19.674632",
     "status": "completed"
    },
    "tags": []
   },
   "source": [
    "# Exploratory Data Analysis of the Titanic Dataset\n",
    "\n"
   ]
  },
  {
   "cell_type": "markdown",
   "id": "db95021f",
   "metadata": {
    "papermill": {
     "duration": 0.015105,
     "end_time": "2024-08-26T19:37:19.720442",
     "exception": false,
     "start_time": "2024-08-26T19:37:19.705337",
     "status": "completed"
    },
    "tags": []
   },
   "source": [
    "# Importing API's for data prepocessing and modelling."
   ]
  },
  {
   "cell_type": "code",
   "execution_count": 2,
   "id": "23d12593",
   "metadata": {
    "execution": {
     "iopub.execute_input": "2024-08-26T19:37:19.753291Z",
     "iopub.status.busy": "2024-08-26T19:37:19.752364Z",
     "iopub.status.idle": "2024-08-26T19:37:21.978403Z",
     "shell.execute_reply": "2024-08-26T19:37:21.977326Z"
    },
    "papermill": {
     "duration": 2.245136,
     "end_time": "2024-08-26T19:37:21.980863",
     "exception": false,
     "start_time": "2024-08-26T19:37:19.735727",
     "status": "completed"
    },
    "tags": []
   },
   "outputs": [],
   "source": [
    "import matplotlib.pyplot as plt\n",
    "import seaborn as sns\n",
    "import pandas as pd\n",
    "import numpy as np\n",
    "from sklearn.tree import DecisionTreeClassifier, plot_tree\n",
    "from sklearn.preprocessing import StandardScaler, OneHotEncoder, OrdinalEncoder\n",
    "from sklearn.impute import KNNImputer, SimpleImputer\n",
    "from sklearn.model_selection import cross_val_score, StratifiedKFold, GridSearchCV, RandomizedSearchCV\n",
    "from sklearn.cluster import dbscan, k_means\n",
    "from sklearn.ensemble import AdaBoostClassifier,RandomForestClassifier\n",
    "from sklearn.metrics import classification_report, precision_score, recall_score, accuracy_score, log_loss\n",
    "from sklearn.neural_network import MLPClassifier\n",
    "from sklearn.pipeline import make_pipeline, FunctionTransformer, Pipeline\n",
    "from sklearn.metrics.pairwise import rbf_kernel\n",
    "from sklearn.svm import SVC\n",
    "from sklearn.compose import ColumnTransformer, make_column_selector, make_column_transformer\n",
    "import xgboost as xgb\n",
    "import warnings\n",
    "from scipy.stats import randint\n",
    "# Suppress all warnings\n",
    "warnings.filterwarnings('ignore')\n"
   ]
  },
  {
   "cell_type": "markdown",
   "id": "eda6163a",
   "metadata": {
    "papermill": {
     "duration": 0.015405,
     "end_time": "2024-08-26T19:37:22.012727",
     "exception": false,
     "start_time": "2024-08-26T19:37:21.997322",
     "status": "completed"
    },
    "tags": []
   },
   "source": [
    "**** READ THE CSV FILE AND CREATE A DATAFRAME FOR THE TRAINING DATA AND  TEST DATA. ****"
   ]
  },
  {
   "cell_type": "code",
   "execution_count": 3,
   "id": "12c679c8",
   "metadata": {
    "execution": {
     "iopub.execute_input": "2024-08-26T19:37:22.046159Z",
     "iopub.status.busy": "2024-08-26T19:37:22.044948Z",
     "iopub.status.idle": "2024-08-26T19:37:22.074213Z",
     "shell.execute_reply": "2024-08-26T19:37:22.073289Z"
    },
    "papermill": {
     "duration": 0.04843,
     "end_time": "2024-08-26T19:37:22.076773",
     "exception": false,
     "start_time": "2024-08-26T19:37:22.028343",
     "status": "completed"
    },
    "tags": []
   },
   "outputs": [],
   "source": [
    "train_data = pd.read_csv('/kaggle/input/titanic/train.csv')\n",
    "test_data = pd.read_csv('/kaggle/input/titanic/test.csv')\n"
   ]
  },
  {
   "cell_type": "markdown",
   "id": "01f221d4",
   "metadata": {
    "papermill": {
     "duration": 0.015092,
     "end_time": "2024-08-26T19:37:22.107616",
     "exception": false,
     "start_time": "2024-08-26T19:37:22.092524",
     "status": "completed"
    },
    "tags": []
   },
   "source": [
    "**SEE THE FIRST  AND LAST FIVE ENTRIES OF THE TEST AND TRAINING DATA.**"
   ]
  },
  {
   "cell_type": "code",
   "execution_count": 4,
   "id": "0a3d8b01",
   "metadata": {
    "execution": {
     "iopub.execute_input": "2024-08-26T19:37:22.139907Z",
     "iopub.status.busy": "2024-08-26T19:37:22.139510Z",
     "iopub.status.idle": "2024-08-26T19:37:22.161208Z",
     "shell.execute_reply": "2024-08-26T19:37:22.160099Z"
    },
    "papermill": {
     "duration": 0.040634,
     "end_time": "2024-08-26T19:37:22.163581",
     "exception": false,
     "start_time": "2024-08-26T19:37:22.122947",
     "status": "completed"
    },
    "tags": []
   },
   "outputs": [
    {
     "data": {
      "text/html": [
       "<div>\n",
       "<style scoped>\n",
       "    .dataframe tbody tr th:only-of-type {\n",
       "        vertical-align: middle;\n",
       "    }\n",
       "\n",
       "    .dataframe tbody tr th {\n",
       "        vertical-align: top;\n",
       "    }\n",
       "\n",
       "    .dataframe thead th {\n",
       "        text-align: right;\n",
       "    }\n",
       "</style>\n",
       "<table border=\"1\" class=\"dataframe\">\n",
       "  <thead>\n",
       "    <tr style=\"text-align: right;\">\n",
       "      <th></th>\n",
       "      <th>PassengerId</th>\n",
       "      <th>Survived</th>\n",
       "      <th>Pclass</th>\n",
       "      <th>Name</th>\n",
       "      <th>Sex</th>\n",
       "      <th>Age</th>\n",
       "      <th>SibSp</th>\n",
       "      <th>Parch</th>\n",
       "      <th>Ticket</th>\n",
       "      <th>Fare</th>\n",
       "      <th>Cabin</th>\n",
       "      <th>Embarked</th>\n",
       "    </tr>\n",
       "  </thead>\n",
       "  <tbody>\n",
       "    <tr>\n",
       "      <th>0</th>\n",
       "      <td>1</td>\n",
       "      <td>0</td>\n",
       "      <td>3</td>\n",
       "      <td>Braund, Mr. Owen Harris</td>\n",
       "      <td>male</td>\n",
       "      <td>22.0</td>\n",
       "      <td>1</td>\n",
       "      <td>0</td>\n",
       "      <td>A/5 21171</td>\n",
       "      <td>7.2500</td>\n",
       "      <td>NaN</td>\n",
       "      <td>S</td>\n",
       "    </tr>\n",
       "    <tr>\n",
       "      <th>1</th>\n",
       "      <td>2</td>\n",
       "      <td>1</td>\n",
       "      <td>1</td>\n",
       "      <td>Cumings, Mrs. John Bradley (Florence Briggs Th...</td>\n",
       "      <td>female</td>\n",
       "      <td>38.0</td>\n",
       "      <td>1</td>\n",
       "      <td>0</td>\n",
       "      <td>PC 17599</td>\n",
       "      <td>71.2833</td>\n",
       "      <td>C85</td>\n",
       "      <td>C</td>\n",
       "    </tr>\n",
       "    <tr>\n",
       "      <th>2</th>\n",
       "      <td>3</td>\n",
       "      <td>1</td>\n",
       "      <td>3</td>\n",
       "      <td>Heikkinen, Miss. Laina</td>\n",
       "      <td>female</td>\n",
       "      <td>26.0</td>\n",
       "      <td>0</td>\n",
       "      <td>0</td>\n",
       "      <td>STON/O2. 3101282</td>\n",
       "      <td>7.9250</td>\n",
       "      <td>NaN</td>\n",
       "      <td>S</td>\n",
       "    </tr>\n",
       "    <tr>\n",
       "      <th>3</th>\n",
       "      <td>4</td>\n",
       "      <td>1</td>\n",
       "      <td>1</td>\n",
       "      <td>Futrelle, Mrs. Jacques Heath (Lily May Peel)</td>\n",
       "      <td>female</td>\n",
       "      <td>35.0</td>\n",
       "      <td>1</td>\n",
       "      <td>0</td>\n",
       "      <td>113803</td>\n",
       "      <td>53.1000</td>\n",
       "      <td>C123</td>\n",
       "      <td>S</td>\n",
       "    </tr>\n",
       "    <tr>\n",
       "      <th>4</th>\n",
       "      <td>5</td>\n",
       "      <td>0</td>\n",
       "      <td>3</td>\n",
       "      <td>Allen, Mr. William Henry</td>\n",
       "      <td>male</td>\n",
       "      <td>35.0</td>\n",
       "      <td>0</td>\n",
       "      <td>0</td>\n",
       "      <td>373450</td>\n",
       "      <td>8.0500</td>\n",
       "      <td>NaN</td>\n",
       "      <td>S</td>\n",
       "    </tr>\n",
       "  </tbody>\n",
       "</table>\n",
       "</div>"
      ],
      "text/plain": [
       "   PassengerId  Survived  Pclass  \\\n",
       "0            1         0       3   \n",
       "1            2         1       1   \n",
       "2            3         1       3   \n",
       "3            4         1       1   \n",
       "4            5         0       3   \n",
       "\n",
       "                                                Name     Sex   Age  SibSp  \\\n",
       "0                            Braund, Mr. Owen Harris    male  22.0      1   \n",
       "1  Cumings, Mrs. John Bradley (Florence Briggs Th...  female  38.0      1   \n",
       "2                             Heikkinen, Miss. Laina  female  26.0      0   \n",
       "3       Futrelle, Mrs. Jacques Heath (Lily May Peel)  female  35.0      1   \n",
       "4                           Allen, Mr. William Henry    male  35.0      0   \n",
       "\n",
       "   Parch            Ticket     Fare Cabin Embarked  \n",
       "0      0         A/5 21171   7.2500   NaN        S  \n",
       "1      0          PC 17599  71.2833   C85        C  \n",
       "2      0  STON/O2. 3101282   7.9250   NaN        S  \n",
       "3      0            113803  53.1000  C123        S  \n",
       "4      0            373450   8.0500   NaN        S  "
      ]
     },
     "execution_count": 4,
     "metadata": {},
     "output_type": "execute_result"
    }
   ],
   "source": [
    "train_data.head()\n"
   ]
  },
  {
   "cell_type": "code",
   "execution_count": 5,
   "id": "b185401e",
   "metadata": {
    "execution": {
     "iopub.execute_input": "2024-08-26T19:37:22.197133Z",
     "iopub.status.busy": "2024-08-26T19:37:22.196197Z",
     "iopub.status.idle": "2024-08-26T19:37:22.212063Z",
     "shell.execute_reply": "2024-08-26T19:37:22.210694Z"
    },
    "papermill": {
     "duration": 0.035104,
     "end_time": "2024-08-26T19:37:22.214378",
     "exception": false,
     "start_time": "2024-08-26T19:37:22.179274",
     "status": "completed"
    },
    "tags": []
   },
   "outputs": [
    {
     "data": {
      "text/html": [
       "<div>\n",
       "<style scoped>\n",
       "    .dataframe tbody tr th:only-of-type {\n",
       "        vertical-align: middle;\n",
       "    }\n",
       "\n",
       "    .dataframe tbody tr th {\n",
       "        vertical-align: top;\n",
       "    }\n",
       "\n",
       "    .dataframe thead th {\n",
       "        text-align: right;\n",
       "    }\n",
       "</style>\n",
       "<table border=\"1\" class=\"dataframe\">\n",
       "  <thead>\n",
       "    <tr style=\"text-align: right;\">\n",
       "      <th></th>\n",
       "      <th>PassengerId</th>\n",
       "      <th>Survived</th>\n",
       "      <th>Pclass</th>\n",
       "      <th>Name</th>\n",
       "      <th>Sex</th>\n",
       "      <th>Age</th>\n",
       "      <th>SibSp</th>\n",
       "      <th>Parch</th>\n",
       "      <th>Ticket</th>\n",
       "      <th>Fare</th>\n",
       "      <th>Cabin</th>\n",
       "      <th>Embarked</th>\n",
       "    </tr>\n",
       "  </thead>\n",
       "  <tbody>\n",
       "    <tr>\n",
       "      <th>886</th>\n",
       "      <td>887</td>\n",
       "      <td>0</td>\n",
       "      <td>2</td>\n",
       "      <td>Montvila, Rev. Juozas</td>\n",
       "      <td>male</td>\n",
       "      <td>27.0</td>\n",
       "      <td>0</td>\n",
       "      <td>0</td>\n",
       "      <td>211536</td>\n",
       "      <td>13.00</td>\n",
       "      <td>NaN</td>\n",
       "      <td>S</td>\n",
       "    </tr>\n",
       "    <tr>\n",
       "      <th>887</th>\n",
       "      <td>888</td>\n",
       "      <td>1</td>\n",
       "      <td>1</td>\n",
       "      <td>Graham, Miss. Margaret Edith</td>\n",
       "      <td>female</td>\n",
       "      <td>19.0</td>\n",
       "      <td>0</td>\n",
       "      <td>0</td>\n",
       "      <td>112053</td>\n",
       "      <td>30.00</td>\n",
       "      <td>B42</td>\n",
       "      <td>S</td>\n",
       "    </tr>\n",
       "    <tr>\n",
       "      <th>888</th>\n",
       "      <td>889</td>\n",
       "      <td>0</td>\n",
       "      <td>3</td>\n",
       "      <td>Johnston, Miss. Catherine Helen \"Carrie\"</td>\n",
       "      <td>female</td>\n",
       "      <td>NaN</td>\n",
       "      <td>1</td>\n",
       "      <td>2</td>\n",
       "      <td>W./C. 6607</td>\n",
       "      <td>23.45</td>\n",
       "      <td>NaN</td>\n",
       "      <td>S</td>\n",
       "    </tr>\n",
       "    <tr>\n",
       "      <th>889</th>\n",
       "      <td>890</td>\n",
       "      <td>1</td>\n",
       "      <td>1</td>\n",
       "      <td>Behr, Mr. Karl Howell</td>\n",
       "      <td>male</td>\n",
       "      <td>26.0</td>\n",
       "      <td>0</td>\n",
       "      <td>0</td>\n",
       "      <td>111369</td>\n",
       "      <td>30.00</td>\n",
       "      <td>C148</td>\n",
       "      <td>C</td>\n",
       "    </tr>\n",
       "    <tr>\n",
       "      <th>890</th>\n",
       "      <td>891</td>\n",
       "      <td>0</td>\n",
       "      <td>3</td>\n",
       "      <td>Dooley, Mr. Patrick</td>\n",
       "      <td>male</td>\n",
       "      <td>32.0</td>\n",
       "      <td>0</td>\n",
       "      <td>0</td>\n",
       "      <td>370376</td>\n",
       "      <td>7.75</td>\n",
       "      <td>NaN</td>\n",
       "      <td>Q</td>\n",
       "    </tr>\n",
       "  </tbody>\n",
       "</table>\n",
       "</div>"
      ],
      "text/plain": [
       "     PassengerId  Survived  Pclass                                      Name  \\\n",
       "886          887         0       2                     Montvila, Rev. Juozas   \n",
       "887          888         1       1              Graham, Miss. Margaret Edith   \n",
       "888          889         0       3  Johnston, Miss. Catherine Helen \"Carrie\"   \n",
       "889          890         1       1                     Behr, Mr. Karl Howell   \n",
       "890          891         0       3                       Dooley, Mr. Patrick   \n",
       "\n",
       "        Sex   Age  SibSp  Parch      Ticket   Fare Cabin Embarked  \n",
       "886    male  27.0      0      0      211536  13.00   NaN        S  \n",
       "887  female  19.0      0      0      112053  30.00   B42        S  \n",
       "888  female   NaN      1      2  W./C. 6607  23.45   NaN        S  \n",
       "889    male  26.0      0      0      111369  30.00  C148        C  \n",
       "890    male  32.0      0      0      370376   7.75   NaN        Q  "
      ]
     },
     "execution_count": 5,
     "metadata": {},
     "output_type": "execute_result"
    }
   ],
   "source": [
    "train_data.tail()"
   ]
  },
  {
   "cell_type": "code",
   "execution_count": 6,
   "id": "b3a74c0c",
   "metadata": {
    "execution": {
     "iopub.execute_input": "2024-08-26T19:37:22.248481Z",
     "iopub.status.busy": "2024-08-26T19:37:22.247562Z",
     "iopub.status.idle": "2024-08-26T19:37:22.262378Z",
     "shell.execute_reply": "2024-08-26T19:37:22.261294Z"
    },
    "papermill": {
     "duration": 0.034233,
     "end_time": "2024-08-26T19:37:22.264679",
     "exception": false,
     "start_time": "2024-08-26T19:37:22.230446",
     "status": "completed"
    },
    "tags": []
   },
   "outputs": [
    {
     "data": {
      "text/html": [
       "<div>\n",
       "<style scoped>\n",
       "    .dataframe tbody tr th:only-of-type {\n",
       "        vertical-align: middle;\n",
       "    }\n",
       "\n",
       "    .dataframe tbody tr th {\n",
       "        vertical-align: top;\n",
       "    }\n",
       "\n",
       "    .dataframe thead th {\n",
       "        text-align: right;\n",
       "    }\n",
       "</style>\n",
       "<table border=\"1\" class=\"dataframe\">\n",
       "  <thead>\n",
       "    <tr style=\"text-align: right;\">\n",
       "      <th></th>\n",
       "      <th>PassengerId</th>\n",
       "      <th>Pclass</th>\n",
       "      <th>Name</th>\n",
       "      <th>Sex</th>\n",
       "      <th>Age</th>\n",
       "      <th>SibSp</th>\n",
       "      <th>Parch</th>\n",
       "      <th>Ticket</th>\n",
       "      <th>Fare</th>\n",
       "      <th>Cabin</th>\n",
       "      <th>Embarked</th>\n",
       "    </tr>\n",
       "  </thead>\n",
       "  <tbody>\n",
       "    <tr>\n",
       "      <th>0</th>\n",
       "      <td>892</td>\n",
       "      <td>3</td>\n",
       "      <td>Kelly, Mr. James</td>\n",
       "      <td>male</td>\n",
       "      <td>34.5</td>\n",
       "      <td>0</td>\n",
       "      <td>0</td>\n",
       "      <td>330911</td>\n",
       "      <td>7.8292</td>\n",
       "      <td>NaN</td>\n",
       "      <td>Q</td>\n",
       "    </tr>\n",
       "    <tr>\n",
       "      <th>1</th>\n",
       "      <td>893</td>\n",
       "      <td>3</td>\n",
       "      <td>Wilkes, Mrs. James (Ellen Needs)</td>\n",
       "      <td>female</td>\n",
       "      <td>47.0</td>\n",
       "      <td>1</td>\n",
       "      <td>0</td>\n",
       "      <td>363272</td>\n",
       "      <td>7.0000</td>\n",
       "      <td>NaN</td>\n",
       "      <td>S</td>\n",
       "    </tr>\n",
       "    <tr>\n",
       "      <th>2</th>\n",
       "      <td>894</td>\n",
       "      <td>2</td>\n",
       "      <td>Myles, Mr. Thomas Francis</td>\n",
       "      <td>male</td>\n",
       "      <td>62.0</td>\n",
       "      <td>0</td>\n",
       "      <td>0</td>\n",
       "      <td>240276</td>\n",
       "      <td>9.6875</td>\n",
       "      <td>NaN</td>\n",
       "      <td>Q</td>\n",
       "    </tr>\n",
       "    <tr>\n",
       "      <th>3</th>\n",
       "      <td>895</td>\n",
       "      <td>3</td>\n",
       "      <td>Wirz, Mr. Albert</td>\n",
       "      <td>male</td>\n",
       "      <td>27.0</td>\n",
       "      <td>0</td>\n",
       "      <td>0</td>\n",
       "      <td>315154</td>\n",
       "      <td>8.6625</td>\n",
       "      <td>NaN</td>\n",
       "      <td>S</td>\n",
       "    </tr>\n",
       "    <tr>\n",
       "      <th>4</th>\n",
       "      <td>896</td>\n",
       "      <td>3</td>\n",
       "      <td>Hirvonen, Mrs. Alexander (Helga E Lindqvist)</td>\n",
       "      <td>female</td>\n",
       "      <td>22.0</td>\n",
       "      <td>1</td>\n",
       "      <td>1</td>\n",
       "      <td>3101298</td>\n",
       "      <td>12.2875</td>\n",
       "      <td>NaN</td>\n",
       "      <td>S</td>\n",
       "    </tr>\n",
       "  </tbody>\n",
       "</table>\n",
       "</div>"
      ],
      "text/plain": [
       "   PassengerId  Pclass                                          Name     Sex  \\\n",
       "0          892       3                              Kelly, Mr. James    male   \n",
       "1          893       3              Wilkes, Mrs. James (Ellen Needs)  female   \n",
       "2          894       2                     Myles, Mr. Thomas Francis    male   \n",
       "3          895       3                              Wirz, Mr. Albert    male   \n",
       "4          896       3  Hirvonen, Mrs. Alexander (Helga E Lindqvist)  female   \n",
       "\n",
       "    Age  SibSp  Parch   Ticket     Fare Cabin Embarked  \n",
       "0  34.5      0      0   330911   7.8292   NaN        Q  \n",
       "1  47.0      1      0   363272   7.0000   NaN        S  \n",
       "2  62.0      0      0   240276   9.6875   NaN        Q  \n",
       "3  27.0      0      0   315154   8.6625   NaN        S  \n",
       "4  22.0      1      1  3101298  12.2875   NaN        S  "
      ]
     },
     "execution_count": 6,
     "metadata": {},
     "output_type": "execute_result"
    }
   ],
   "source": [
    "test_data.head()"
   ]
  },
  {
   "cell_type": "code",
   "execution_count": 7,
   "id": "8e169101",
   "metadata": {
    "execution": {
     "iopub.execute_input": "2024-08-26T19:37:22.299307Z",
     "iopub.status.busy": "2024-08-26T19:37:22.298376Z",
     "iopub.status.idle": "2024-08-26T19:37:22.313306Z",
     "shell.execute_reply": "2024-08-26T19:37:22.312292Z"
    },
    "papermill": {
     "duration": 0.034618,
     "end_time": "2024-08-26T19:37:22.315699",
     "exception": false,
     "start_time": "2024-08-26T19:37:22.281081",
     "status": "completed"
    },
    "tags": []
   },
   "outputs": [
    {
     "data": {
      "text/html": [
       "<div>\n",
       "<style scoped>\n",
       "    .dataframe tbody tr th:only-of-type {\n",
       "        vertical-align: middle;\n",
       "    }\n",
       "\n",
       "    .dataframe tbody tr th {\n",
       "        vertical-align: top;\n",
       "    }\n",
       "\n",
       "    .dataframe thead th {\n",
       "        text-align: right;\n",
       "    }\n",
       "</style>\n",
       "<table border=\"1\" class=\"dataframe\">\n",
       "  <thead>\n",
       "    <tr style=\"text-align: right;\">\n",
       "      <th></th>\n",
       "      <th>PassengerId</th>\n",
       "      <th>Pclass</th>\n",
       "      <th>Name</th>\n",
       "      <th>Sex</th>\n",
       "      <th>Age</th>\n",
       "      <th>SibSp</th>\n",
       "      <th>Parch</th>\n",
       "      <th>Ticket</th>\n",
       "      <th>Fare</th>\n",
       "      <th>Cabin</th>\n",
       "      <th>Embarked</th>\n",
       "    </tr>\n",
       "  </thead>\n",
       "  <tbody>\n",
       "    <tr>\n",
       "      <th>413</th>\n",
       "      <td>1305</td>\n",
       "      <td>3</td>\n",
       "      <td>Spector, Mr. Woolf</td>\n",
       "      <td>male</td>\n",
       "      <td>NaN</td>\n",
       "      <td>0</td>\n",
       "      <td>0</td>\n",
       "      <td>A.5. 3236</td>\n",
       "      <td>8.0500</td>\n",
       "      <td>NaN</td>\n",
       "      <td>S</td>\n",
       "    </tr>\n",
       "    <tr>\n",
       "      <th>414</th>\n",
       "      <td>1306</td>\n",
       "      <td>1</td>\n",
       "      <td>Oliva y Ocana, Dona. Fermina</td>\n",
       "      <td>female</td>\n",
       "      <td>39.0</td>\n",
       "      <td>0</td>\n",
       "      <td>0</td>\n",
       "      <td>PC 17758</td>\n",
       "      <td>108.9000</td>\n",
       "      <td>C105</td>\n",
       "      <td>C</td>\n",
       "    </tr>\n",
       "    <tr>\n",
       "      <th>415</th>\n",
       "      <td>1307</td>\n",
       "      <td>3</td>\n",
       "      <td>Saether, Mr. Simon Sivertsen</td>\n",
       "      <td>male</td>\n",
       "      <td>38.5</td>\n",
       "      <td>0</td>\n",
       "      <td>0</td>\n",
       "      <td>SOTON/O.Q. 3101262</td>\n",
       "      <td>7.2500</td>\n",
       "      <td>NaN</td>\n",
       "      <td>S</td>\n",
       "    </tr>\n",
       "    <tr>\n",
       "      <th>416</th>\n",
       "      <td>1308</td>\n",
       "      <td>3</td>\n",
       "      <td>Ware, Mr. Frederick</td>\n",
       "      <td>male</td>\n",
       "      <td>NaN</td>\n",
       "      <td>0</td>\n",
       "      <td>0</td>\n",
       "      <td>359309</td>\n",
       "      <td>8.0500</td>\n",
       "      <td>NaN</td>\n",
       "      <td>S</td>\n",
       "    </tr>\n",
       "    <tr>\n",
       "      <th>417</th>\n",
       "      <td>1309</td>\n",
       "      <td>3</td>\n",
       "      <td>Peter, Master. Michael J</td>\n",
       "      <td>male</td>\n",
       "      <td>NaN</td>\n",
       "      <td>1</td>\n",
       "      <td>1</td>\n",
       "      <td>2668</td>\n",
       "      <td>22.3583</td>\n",
       "      <td>NaN</td>\n",
       "      <td>C</td>\n",
       "    </tr>\n",
       "  </tbody>\n",
       "</table>\n",
       "</div>"
      ],
      "text/plain": [
       "     PassengerId  Pclass                          Name     Sex   Age  SibSp  \\\n",
       "413         1305       3            Spector, Mr. Woolf    male   NaN      0   \n",
       "414         1306       1  Oliva y Ocana, Dona. Fermina  female  39.0      0   \n",
       "415         1307       3  Saether, Mr. Simon Sivertsen    male  38.5      0   \n",
       "416         1308       3           Ware, Mr. Frederick    male   NaN      0   \n",
       "417         1309       3      Peter, Master. Michael J    male   NaN      1   \n",
       "\n",
       "     Parch              Ticket      Fare Cabin Embarked  \n",
       "413      0           A.5. 3236    8.0500   NaN        S  \n",
       "414      0            PC 17758  108.9000  C105        C  \n",
       "415      0  SOTON/O.Q. 3101262    7.2500   NaN        S  \n",
       "416      0              359309    8.0500   NaN        S  \n",
       "417      1                2668   22.3583   NaN        C  "
      ]
     },
     "execution_count": 7,
     "metadata": {},
     "output_type": "execute_result"
    }
   ],
   "source": [
    "test_data.tail()"
   ]
  },
  {
   "cell_type": "markdown",
   "id": "ceddaefd",
   "metadata": {
    "papermill": {
     "duration": 0.016415,
     "end_time": "2024-08-26T19:37:22.348678",
     "exception": false,
     "start_time": "2024-08-26T19:37:22.332263",
     "status": "completed"
    },
    "tags": []
   },
   "source": [
    "**LET US EXAMINE THE NUMBER OF ROWS AND COLUMNS IN THE TEST AND TRAINING DATA.**"
   ]
  },
  {
   "cell_type": "code",
   "execution_count": 8,
   "id": "e6e35ed4",
   "metadata": {
    "execution": {
     "iopub.execute_input": "2024-08-26T19:37:22.383284Z",
     "iopub.status.busy": "2024-08-26T19:37:22.382875Z",
     "iopub.status.idle": "2024-08-26T19:37:22.388257Z",
     "shell.execute_reply": "2024-08-26T19:37:22.387159Z"
    },
    "papermill": {
     "duration": 0.025433,
     "end_time": "2024-08-26T19:37:22.390576",
     "exception": false,
     "start_time": "2024-08-26T19:37:22.365143",
     "status": "completed"
    },
    "tags": []
   },
   "outputs": [
    {
     "name": "stdout",
     "output_type": "stream",
     "text": [
      "The training data has 891 rows and 12 columns.\n",
      "The test data has 418 rows and 11 columns.\n"
     ]
    }
   ],
   "source": [
    "print(f\"The training data has {train_data.shape[0]} rows and {train_data.shape[1]} columns.\")\n",
    "print(f\"The test data has {test_data.shape[0]} rows and {test_data.shape[1]} columns.\")"
   ]
  },
  {
   "cell_type": "markdown",
   "id": "60db11fd",
   "metadata": {
    "papermill": {
     "duration": 0.016324,
     "end_time": "2024-08-26T19:37:22.423785",
     "exception": false,
     "start_time": "2024-08-26T19:37:22.407461",
     "status": "completed"
    },
    "tags": []
   },
   "source": [
    "**OUR GOAL IS TO CREATE A MODEL THAT PREDICTS WHETHER THE PASSENGERS SURVIVED OR NOT BASED ON THEIR OTHER DESCRIBED FEARTURES IN THE DATASET.**"
   ]
  },
  {
   "cell_type": "markdown",
   "id": "e4e04a29",
   "metadata": {
    "papermill": {
     "duration": 0.016161,
     "end_time": "2024-08-26T19:37:22.456425",
     "exception": false,
     "start_time": "2024-08-26T19:37:22.440264",
     "status": "completed"
    },
    "tags": []
   },
   "source": [
    "**WE EXAMINE THE ENTRIES OF THE TRAINING AND TEST DATA MORE EXTENSIVELY THROUGH SOME VISUAL AIDS AND PANDAS COMMANDS.**"
   ]
  },
  {
   "cell_type": "code",
   "execution_count": 9,
   "id": "c68a8af2",
   "metadata": {
    "execution": {
     "iopub.execute_input": "2024-08-26T19:37:22.490909Z",
     "iopub.status.busy": "2024-08-26T19:37:22.490554Z",
     "iopub.status.idle": "2024-08-26T19:37:22.519768Z",
     "shell.execute_reply": "2024-08-26T19:37:22.518319Z"
    },
    "papermill": {
     "duration": 0.049244,
     "end_time": "2024-08-26T19:37:22.522153",
     "exception": false,
     "start_time": "2024-08-26T19:37:22.472909",
     "status": "completed"
    },
    "tags": []
   },
   "outputs": [
    {
     "name": "stdout",
     "output_type": "stream",
     "text": [
      "<class 'pandas.core.frame.DataFrame'>\n",
      "RangeIndex: 891 entries, 0 to 890\n",
      "Data columns (total 12 columns):\n",
      " #   Column       Non-Null Count  Dtype  \n",
      "---  ------       --------------  -----  \n",
      " 0   PassengerId  891 non-null    int64  \n",
      " 1   Survived     891 non-null    int64  \n",
      " 2   Pclass       891 non-null    int64  \n",
      " 3   Name         891 non-null    object \n",
      " 4   Sex          891 non-null    object \n",
      " 5   Age          714 non-null    float64\n",
      " 6   SibSp        891 non-null    int64  \n",
      " 7   Parch        891 non-null    int64  \n",
      " 8   Ticket       891 non-null    object \n",
      " 9   Fare         891 non-null    float64\n",
      " 10  Cabin        204 non-null    object \n",
      " 11  Embarked     889 non-null    object \n",
      "dtypes: float64(2), int64(5), object(5)\n",
      "memory usage: 83.7+ KB\n"
     ]
    }
   ],
   "source": [
    "train_data.info()"
   ]
  },
  {
   "cell_type": "markdown",
   "id": "418a196a",
   "metadata": {
    "papermill": {
     "duration": 0.016349,
     "end_time": "2024-08-26T19:37:22.555047",
     "exception": false,
     "start_time": "2024-08-26T19:37:22.538698",
     "status": "completed"
    },
    "tags": []
   },
   "source": [
    "**WE NOTE THAT EVERY PASSENGER IS GIVEN AN UNIQUE ID. THEREFORE, WE CHANGE THE INDEX OF THE TRAINING AND TEST DATA TO PASSENGERId.**"
   ]
  },
  {
   "cell_type": "code",
   "execution_count": 10,
   "id": "962a81d8",
   "metadata": {
    "execution": {
     "iopub.execute_input": "2024-08-26T19:37:22.647654Z",
     "iopub.status.busy": "2024-08-26T19:37:22.647266Z",
     "iopub.status.idle": "2024-08-26T19:37:22.653551Z",
     "shell.execute_reply": "2024-08-26T19:37:22.652443Z"
    },
    "papermill": {
     "duration": 0.084127,
     "end_time": "2024-08-26T19:37:22.655699",
     "exception": false,
     "start_time": "2024-08-26T19:37:22.571572",
     "status": "completed"
    },
    "tags": []
   },
   "outputs": [],
   "source": [
    "train_data.set_index(\"PassengerId\",inplace=True)\n",
    "test_data.set_index(\"PassengerId\",inplace=True)"
   ]
  },
  {
   "cell_type": "markdown",
   "id": "e8e6fa51",
   "metadata": {
    "papermill": {
     "duration": 0.01659,
     "end_time": "2024-08-26T19:37:22.689803",
     "exception": false,
     "start_time": "2024-08-26T19:37:22.673213",
     "status": "completed"
    },
    "tags": []
   },
   "source": [
    "**WE CHANGE THE OBJECT DATA TYPE TO CATEGORY. MOREOVER, WE ALSO CHANGE THE DATA TYPE OF PCLASS TO CATEGORY (KEEPING IT AS INT TYPE IS ALSO FINE BUT IT WILL BE CONVENIENT TO CHANGE IT TO CATEGORY DATA TYPE SINCE PCLASS CAN BE CLASSIFIED AS ORDINAL CATEGORICAL FEATURE). ALSO, WE CAN REPRESENT THE SURVIVED  COLUMN AS BOOLEAN.**"
   ]
  },
  {
   "cell_type": "code",
   "execution_count": 11,
   "id": "b69a9def",
   "metadata": {
    "execution": {
     "iopub.execute_input": "2024-08-26T19:37:22.725758Z",
     "iopub.status.busy": "2024-08-26T19:37:22.724780Z",
     "iopub.status.idle": "2024-08-26T19:37:22.759834Z",
     "shell.execute_reply": "2024-08-26T19:37:22.758818Z"
    },
    "papermill": {
     "duration": 0.055452,
     "end_time": "2024-08-26T19:37:22.762301",
     "exception": false,
     "start_time": "2024-08-26T19:37:22.706849",
     "status": "completed"
    },
    "tags": []
   },
   "outputs": [
    {
     "name": "stdout",
     "output_type": "stream",
     "text": [
      "We check the data type of the columns again\n",
      "<class 'pandas.core.frame.DataFrame'>\n",
      "Index: 891 entries, 1 to 891\n",
      "Data columns (total 11 columns):\n",
      " #   Column    Non-Null Count  Dtype   \n",
      "---  ------    --------------  -----   \n",
      " 0   Survived  891 non-null    boolean \n",
      " 1   Pclass    891 non-null    category\n",
      " 2   Name      891 non-null    category\n",
      " 3   Sex       891 non-null    category\n",
      " 4   Age       714 non-null    float64 \n",
      " 5   SibSp     891 non-null    int64   \n",
      " 6   Parch     891 non-null    int64   \n",
      " 7   Ticket    891 non-null    category\n",
      " 8   Fare      891 non-null    float64 \n",
      " 9   Cabin     204 non-null    category\n",
      " 10  Embarked  889 non-null    category\n",
      "dtypes: boolean(1), category(6), float64(2), int64(2)\n",
      "memory usage: 110.7 KB\n",
      "None\n",
      "<class 'pandas.core.frame.DataFrame'>\n",
      "Index: 418 entries, 892 to 1309\n",
      "Data columns (total 10 columns):\n",
      " #   Column    Non-Null Count  Dtype   \n",
      "---  ------    --------------  -----   \n",
      " 0   Pclass    418 non-null    category\n",
      " 1   Name      418 non-null    category\n",
      " 2   Sex       418 non-null    category\n",
      " 3   Age       332 non-null    float64 \n",
      " 4   SibSp     418 non-null    int64   \n",
      " 5   Parch     418 non-null    int64   \n",
      " 6   Ticket    418 non-null    category\n",
      " 7   Fare      417 non-null    float64 \n",
      " 8   Cabin     91 non-null     category\n",
      " 9   Embarked  418 non-null    category\n",
      "dtypes: category(6), float64(2), int64(2)\n",
      "memory usage: 53.0 KB\n",
      "None\n"
     ]
    }
   ],
   "source": [
    "cat_col = train_data.select_dtypes(include=['object'])\n",
    "for col in cat_col:\n",
    "    train_data[col] = train_data[col].astype('category')\n",
    "    test_data[col] = test_data[col].astype('category')\n",
    "    \n",
    "train_data['Pclass'] = train_data['Pclass'].astype('category')\n",
    "train_data['Survived'] = train_data['Survived'].astype('boolean')\n",
    "test_data['Pclass'] = test_data['Pclass'].astype('category')\n",
    "print(\"We check the data type of the columns again\")\n",
    "print(train_data.info())\n",
    "print(test_data.info())\n",
    "\n",
    "\n",
    "    \n",
    "    \n"
   ]
  },
  {
   "cell_type": "code",
   "execution_count": 12,
   "id": "81cccfe6",
   "metadata": {
    "execution": {
     "iopub.execute_input": "2024-08-26T19:37:22.798960Z",
     "iopub.status.busy": "2024-08-26T19:37:22.798570Z",
     "iopub.status.idle": "2024-08-26T19:37:22.820795Z",
     "shell.execute_reply": "2024-08-26T19:37:22.819675Z"
    },
    "papermill": {
     "duration": 0.042799,
     "end_time": "2024-08-26T19:37:22.823080",
     "exception": false,
     "start_time": "2024-08-26T19:37:22.780281",
     "status": "completed"
    },
    "tags": []
   },
   "outputs": [
    {
     "data": {
      "text/html": [
       "<div>\n",
       "<style scoped>\n",
       "    .dataframe tbody tr th:only-of-type {\n",
       "        vertical-align: middle;\n",
       "    }\n",
       "\n",
       "    .dataframe tbody tr th {\n",
       "        vertical-align: top;\n",
       "    }\n",
       "\n",
       "    .dataframe thead th {\n",
       "        text-align: right;\n",
       "    }\n",
       "</style>\n",
       "<table border=\"1\" class=\"dataframe\">\n",
       "  <thead>\n",
       "    <tr style=\"text-align: right;\">\n",
       "      <th></th>\n",
       "      <th>Age</th>\n",
       "      <th>SibSp</th>\n",
       "      <th>Parch</th>\n",
       "      <th>Fare</th>\n",
       "    </tr>\n",
       "  </thead>\n",
       "  <tbody>\n",
       "    <tr>\n",
       "      <th>count</th>\n",
       "      <td>714.000000</td>\n",
       "      <td>891.000000</td>\n",
       "      <td>891.000000</td>\n",
       "      <td>891.000000</td>\n",
       "    </tr>\n",
       "    <tr>\n",
       "      <th>mean</th>\n",
       "      <td>29.699118</td>\n",
       "      <td>0.523008</td>\n",
       "      <td>0.381594</td>\n",
       "      <td>32.204208</td>\n",
       "    </tr>\n",
       "    <tr>\n",
       "      <th>std</th>\n",
       "      <td>14.526497</td>\n",
       "      <td>1.102743</td>\n",
       "      <td>0.806057</td>\n",
       "      <td>49.693429</td>\n",
       "    </tr>\n",
       "    <tr>\n",
       "      <th>min</th>\n",
       "      <td>0.420000</td>\n",
       "      <td>0.000000</td>\n",
       "      <td>0.000000</td>\n",
       "      <td>0.000000</td>\n",
       "    </tr>\n",
       "    <tr>\n",
       "      <th>25%</th>\n",
       "      <td>20.125000</td>\n",
       "      <td>0.000000</td>\n",
       "      <td>0.000000</td>\n",
       "      <td>7.910400</td>\n",
       "    </tr>\n",
       "    <tr>\n",
       "      <th>50%</th>\n",
       "      <td>28.000000</td>\n",
       "      <td>0.000000</td>\n",
       "      <td>0.000000</td>\n",
       "      <td>14.454200</td>\n",
       "    </tr>\n",
       "    <tr>\n",
       "      <th>75%</th>\n",
       "      <td>38.000000</td>\n",
       "      <td>1.000000</td>\n",
       "      <td>0.000000</td>\n",
       "      <td>31.000000</td>\n",
       "    </tr>\n",
       "    <tr>\n",
       "      <th>max</th>\n",
       "      <td>80.000000</td>\n",
       "      <td>8.000000</td>\n",
       "      <td>6.000000</td>\n",
       "      <td>512.329200</td>\n",
       "    </tr>\n",
       "  </tbody>\n",
       "</table>\n",
       "</div>"
      ],
      "text/plain": [
       "              Age       SibSp       Parch        Fare\n",
       "count  714.000000  891.000000  891.000000  891.000000\n",
       "mean    29.699118    0.523008    0.381594   32.204208\n",
       "std     14.526497    1.102743    0.806057   49.693429\n",
       "min      0.420000    0.000000    0.000000    0.000000\n",
       "25%     20.125000    0.000000    0.000000    7.910400\n",
       "50%     28.000000    0.000000    0.000000   14.454200\n",
       "75%     38.000000    1.000000    0.000000   31.000000\n",
       "max     80.000000    8.000000    6.000000  512.329200"
      ]
     },
     "execution_count": 12,
     "metadata": {},
     "output_type": "execute_result"
    }
   ],
   "source": [
    "train_data.describe()"
   ]
  },
  {
   "cell_type": "markdown",
   "id": "05ad17d1",
   "metadata": {
    "papermill": {
     "duration": 0.017893,
     "end_time": "2024-08-26T19:37:22.858770",
     "exception": false,
     "start_time": "2024-08-26T19:37:22.840877",
     "status": "completed"
    },
    "tags": []
   },
   "source": [
    "**We can combine the columns SipSp and Parch to form a new column \" family Size \"**"
   ]
  },
  {
   "cell_type": "code",
   "execution_count": 13,
   "id": "e4a4a064",
   "metadata": {
    "execution": {
     "iopub.execute_input": "2024-08-26T19:37:22.896134Z",
     "iopub.status.busy": "2024-08-26T19:37:22.895196Z",
     "iopub.status.idle": "2024-08-26T19:37:22.905822Z",
     "shell.execute_reply": "2024-08-26T19:37:22.905001Z"
    },
    "papermill": {
     "duration": 0.031975,
     "end_time": "2024-08-26T19:37:22.907887",
     "exception": false,
     "start_time": "2024-08-26T19:37:22.875912",
     "status": "completed"
    },
    "tags": []
   },
   "outputs": [],
   "source": [
    "train_data[\"Family_Size\"] = train_data[\"SibSp\"] + train_data[\"Parch\"] + 1\n",
    "\"\"\"\n",
    "1 is added to inculde the passenger as well in the Family.\n",
    "\"\"\"\n",
    "train_data[\"Family_Size\"].describe()\n",
    "\n",
    "test_data[\"Family_Size\"] = test_data[\"SibSp\"] + test_data[\"Parch\"] + 1\n",
    "\n"
   ]
  },
  {
   "cell_type": "markdown",
   "id": "73ef6b3f",
   "metadata": {
    "papermill": {
     "duration": 0.016881,
     "end_time": "2024-08-26T19:37:22.941833",
     "exception": false,
     "start_time": "2024-08-26T19:37:22.924952",
     "status": "completed"
    },
    "tags": []
   },
   "source": [
    "**Let us look at the distribution of the various attributes through histograms**"
   ]
  },
  {
   "cell_type": "code",
   "execution_count": 14,
   "id": "0c45208b",
   "metadata": {
    "execution": {
     "iopub.execute_input": "2024-08-26T19:37:22.977601Z",
     "iopub.status.busy": "2024-08-26T19:37:22.977198Z",
     "iopub.status.idle": "2024-08-26T19:37:24.222459Z",
     "shell.execute_reply": "2024-08-26T19:37:24.221499Z"
    },
    "papermill": {
     "duration": 1.266222,
     "end_time": "2024-08-26T19:37:24.224985",
     "exception": false,
     "start_time": "2024-08-26T19:37:22.958763",
     "status": "completed"
    },
    "tags": []
   },
   "outputs": [
    {
     "data": {
      "image/png": "[encoded data removed]",
      "text/plain": [
       "<Figure size 1200x800 with 6 Axes>"
      ]
     },
     "metadata": {},
     "output_type": "display_data"
    }
   ],
   "source": [
    "train_data.hist(bins=50,figsize=(12,8),)\n",
    "plt.show()\n"
   ]
  },
  {
   "cell_type": "markdown",
   "id": "fa63ec53",
   "metadata": {
    "papermill": {
     "duration": 0.017443,
     "end_time": "2024-08-26T19:37:24.260908",
     "exception": false,
     "start_time": "2024-08-26T19:37:24.243465",
     "status": "completed"
    },
    "tags": []
   },
   "source": [
    "**The age distribution is a multimodal distribution whereas all the other attributes have right skewed distribution.**"
   ]
  },
  {
   "cell_type": "markdown",
   "id": "ac49f1f9",
   "metadata": {
    "papermill": {
     "duration": 0.017527,
     "end_time": "2024-08-26T19:37:24.296175",
     "exception": false,
     "start_time": "2024-08-26T19:37:24.278648",
     "status": "completed"
    },
    "tags": []
   },
   "source": [
    "**LET US NOW CLOSELY LOOK AT THE RELATIONSHIP BETWEEN ATTRIBUTES OF THE TRAINING DATA.**"
   ]
  },
  {
   "cell_type": "markdown",
   "id": "00285d59",
   "metadata": {
    "papermill": {
     "duration": 0.01751,
     "end_time": "2024-08-26T19:37:24.331612",
     "exception": false,
     "start_time": "2024-08-26T19:37:24.314102",
     "status": "completed"
    },
    "tags": []
   },
   "source": [
    "**FIRSTLY, LET US SEE THE CORRELATION BETWEEN THE NUMERICAL ATTRIBUTES.**"
   ]
  },
  {
   "cell_type": "code",
   "execution_count": 15,
   "id": "c4dbb6a1",
   "metadata": {
    "execution": {
     "iopub.execute_input": "2024-08-26T19:37:24.369329Z",
     "iopub.status.busy": "2024-08-26T19:37:24.368929Z",
     "iopub.status.idle": "2024-08-26T19:37:24.384723Z",
     "shell.execute_reply": "2024-08-26T19:37:24.383482Z"
    },
    "papermill": {
     "duration": 0.037581,
     "end_time": "2024-08-26T19:37:24.387051",
     "exception": false,
     "start_time": "2024-08-26T19:37:24.349470",
     "status": "completed"
    },
    "tags": []
   },
   "outputs": [
    {
     "data": {
      "text/html": [
       "<div>\n",
       "<style scoped>\n",
       "    .dataframe tbody tr th:only-of-type {\n",
       "        vertical-align: middle;\n",
       "    }\n",
       "\n",
       "    .dataframe tbody tr th {\n",
       "        vertical-align: top;\n",
       "    }\n",
       "\n",
       "    .dataframe thead th {\n",
       "        text-align: right;\n",
       "    }\n",
       "</style>\n",
       "<table border=\"1\" class=\"dataframe\">\n",
       "  <thead>\n",
       "    <tr style=\"text-align: right;\">\n",
       "      <th></th>\n",
       "      <th>Age</th>\n",
       "      <th>SibSp</th>\n",
       "      <th>Parch</th>\n",
       "      <th>Fare</th>\n",
       "      <th>Family_Size</th>\n",
       "    </tr>\n",
       "  </thead>\n",
       "  <tbody>\n",
       "    <tr>\n",
       "      <th>Age</th>\n",
       "      <td>1.000000</td>\n",
       "      <td>-0.308247</td>\n",
       "      <td>-0.189119</td>\n",
       "      <td>0.096067</td>\n",
       "      <td>-0.301914</td>\n",
       "    </tr>\n",
       "    <tr>\n",
       "      <th>SibSp</th>\n",
       "      <td>-0.308247</td>\n",
       "      <td>1.000000</td>\n",
       "      <td>0.414838</td>\n",
       "      <td>0.159651</td>\n",
       "      <td>0.890712</td>\n",
       "    </tr>\n",
       "    <tr>\n",
       "      <th>Parch</th>\n",
       "      <td>-0.189119</td>\n",
       "      <td>0.414838</td>\n",
       "      <td>1.000000</td>\n",
       "      <td>0.216225</td>\n",
       "      <td>0.783111</td>\n",
       "    </tr>\n",
       "    <tr>\n",
       "      <th>Fare</th>\n",
       "      <td>0.096067</td>\n",
       "      <td>0.159651</td>\n",
       "      <td>0.216225</td>\n",
       "      <td>1.000000</td>\n",
       "      <td>0.217138</td>\n",
       "    </tr>\n",
       "    <tr>\n",
       "      <th>Family_Size</th>\n",
       "      <td>-0.301914</td>\n",
       "      <td>0.890712</td>\n",
       "      <td>0.783111</td>\n",
       "      <td>0.217138</td>\n",
       "      <td>1.000000</td>\n",
       "    </tr>\n",
       "  </tbody>\n",
       "</table>\n",
       "</div>"
      ],
      "text/plain": [
       "                  Age     SibSp     Parch      Fare  Family_Size\n",
       "Age          1.000000 -0.308247 -0.189119  0.096067    -0.301914\n",
       "SibSp       -0.308247  1.000000  0.414838  0.159651     0.890712\n",
       "Parch       -0.189119  0.414838  1.000000  0.216225     0.783111\n",
       "Fare         0.096067  0.159651  0.216225  1.000000     0.217138\n",
       "Family_Size -0.301914  0.890712  0.783111  0.217138     1.000000"
      ]
     },
     "execution_count": 15,
     "metadata": {},
     "output_type": "execute_result"
    }
   ],
   "source": [
    "\n",
    "train_data.select_dtypes(include = 'number').corr()"
   ]
  },
  {
   "cell_type": "markdown",
   "id": "229e6125",
   "metadata": {
    "papermill": {
     "duration": 0.017521,
     "end_time": "2024-08-26T19:37:24.422568",
     "exception": false,
     "start_time": "2024-08-26T19:37:24.405047",
     "status": "completed"
    },
    "tags": []
   },
   "source": [
    "**SibSp IS MODERATELY POSTIVE CORRELATED TO Parch and moderately negatively correlated to Age. The new attribute that we have created is strongly correlated to SibSp and Parch for obvious reason and negativly correlated to Age. OTHER THAN THAT WE DO NOT SEE ANY SIGNIFICANT CORRELATION. We have observed that the age attribute had a lot of null values. Let us see if filling those null values would affect the correlation.**"
   ]
  },
  {
   "cell_type": "code",
   "execution_count": 16,
   "id": "af88207b",
   "metadata": {
    "execution": {
     "iopub.execute_input": "2024-08-26T19:37:24.460220Z",
     "iopub.status.busy": "2024-08-26T19:37:24.459863Z",
     "iopub.status.idle": "2024-08-26T19:37:24.476809Z",
     "shell.execute_reply": "2024-08-26T19:37:24.475669Z"
    },
    "papermill": {
     "duration": 0.038426,
     "end_time": "2024-08-26T19:37:24.479127",
     "exception": false,
     "start_time": "2024-08-26T19:37:24.440701",
     "status": "completed"
    },
    "tags": []
   },
   "outputs": [
    {
     "name": "stdout",
     "output_type": "stream",
     "text": [
      "<class 'pandas.core.frame.DataFrame'>\n",
      "Index: 891 entries, 1 to 891\n",
      "Data columns (total 5 columns):\n",
      " #   Column       Non-Null Count  Dtype  \n",
      "---  ------       --------------  -----  \n",
      " 0   Age          891 non-null    float64\n",
      " 1   SibSp        891 non-null    float64\n",
      " 2   Parch        891 non-null    float64\n",
      " 3   Fare         891 non-null    float64\n",
      " 4   Family_Size  891 non-null    float64\n",
      "dtypes: float64(5)\n",
      "memory usage: 41.8 KB\n"
     ]
    }
   ],
   "source": [
    "Imputer = SimpleImputer(strategy='mean')\n",
    "X = Imputer.fit_transform(train_data.select_dtypes(include=np.number))\n",
    "X_num = pd.DataFrame(data=X,columns=train_data.select_dtypes(include=np.number).columns,index = train_data.index)\n",
    "X_num.info()"
   ]
  },
  {
   "cell_type": "markdown",
   "id": "6c85e5e9",
   "metadata": {
    "papermill": {
     "duration": 0.01788,
     "end_time": "2024-08-26T19:37:24.515911",
     "exception": false,
     "start_time": "2024-08-26T19:37:24.498031",
     "status": "completed"
    },
    "tags": []
   },
   "source": []
  },
  {
   "cell_type": "code",
   "execution_count": 17,
   "id": "91bda6f3",
   "metadata": {
    "execution": {
     "iopub.execute_input": "2024-08-26T19:37:24.554145Z",
     "iopub.status.busy": "2024-08-26T19:37:24.553778Z",
     "iopub.status.idle": "2024-08-26T19:37:24.567424Z",
     "shell.execute_reply": "2024-08-26T19:37:24.566287Z"
    },
    "papermill": {
     "duration": 0.035309,
     "end_time": "2024-08-26T19:37:24.569853",
     "exception": false,
     "start_time": "2024-08-26T19:37:24.534544",
     "status": "completed"
    },
    "tags": []
   },
   "outputs": [
    {
     "data": {
      "text/html": [
       "<div>\n",
       "<style scoped>\n",
       "    .dataframe tbody tr th:only-of-type {\n",
       "        vertical-align: middle;\n",
       "    }\n",
       "\n",
       "    .dataframe tbody tr th {\n",
       "        vertical-align: top;\n",
       "    }\n",
       "\n",
       "    .dataframe thead th {\n",
       "        text-align: right;\n",
       "    }\n",
       "</style>\n",
       "<table border=\"1\" class=\"dataframe\">\n",
       "  <thead>\n",
       "    <tr style=\"text-align: right;\">\n",
       "      <th></th>\n",
       "      <th>Age</th>\n",
       "      <th>SibSp</th>\n",
       "      <th>Parch</th>\n",
       "      <th>Fare</th>\n",
       "      <th>Family_Size</th>\n",
       "    </tr>\n",
       "  </thead>\n",
       "  <tbody>\n",
       "    <tr>\n",
       "      <th>Age</th>\n",
       "      <td>1.000000</td>\n",
       "      <td>-0.232625</td>\n",
       "      <td>-0.179191</td>\n",
       "      <td>0.091566</td>\n",
       "      <td>-0.248512</td>\n",
       "    </tr>\n",
       "    <tr>\n",
       "      <th>SibSp</th>\n",
       "      <td>-0.232625</td>\n",
       "      <td>1.000000</td>\n",
       "      <td>0.414838</td>\n",
       "      <td>0.159651</td>\n",
       "      <td>0.890712</td>\n",
       "    </tr>\n",
       "    <tr>\n",
       "      <th>Parch</th>\n",
       "      <td>-0.179191</td>\n",
       "      <td>0.414838</td>\n",
       "      <td>1.000000</td>\n",
       "      <td>0.216225</td>\n",
       "      <td>0.783111</td>\n",
       "    </tr>\n",
       "    <tr>\n",
       "      <th>Fare</th>\n",
       "      <td>0.091566</td>\n",
       "      <td>0.159651</td>\n",
       "      <td>0.216225</td>\n",
       "      <td>1.000000</td>\n",
       "      <td>0.217138</td>\n",
       "    </tr>\n",
       "    <tr>\n",
       "      <th>Family_Size</th>\n",
       "      <td>-0.248512</td>\n",
       "      <td>0.890712</td>\n",
       "      <td>0.783111</td>\n",
       "      <td>0.217138</td>\n",
       "      <td>1.000000</td>\n",
       "    </tr>\n",
       "  </tbody>\n",
       "</table>\n",
       "</div>"
      ],
      "text/plain": [
       "                  Age     SibSp     Parch      Fare  Family_Size\n",
       "Age          1.000000 -0.232625 -0.179191  0.091566    -0.248512\n",
       "SibSp       -0.232625  1.000000  0.414838  0.159651     0.890712\n",
       "Parch       -0.179191  0.414838  1.000000  0.216225     0.783111\n",
       "Fare         0.091566  0.159651  0.216225  1.000000     0.217138\n",
       "Family_Size -0.248512  0.890712  0.783111  0.217138     1.000000"
      ]
     },
     "execution_count": 17,
     "metadata": {},
     "output_type": "execute_result"
    }
   ],
   "source": [
    "X_num.corr()"
   ]
  },
  {
   "cell_type": "markdown",
   "id": "6a6a80ad",
   "metadata": {
    "papermill": {
     "duration": 0.017891,
     "end_time": "2024-08-26T19:37:24.606213",
     "exception": false,
     "start_time": "2024-08-26T19:37:24.588322",
     "status": "completed"
    },
    "tags": []
   },
   "source": [
    "**NEXT, WE OBSERVE HOW THESE NUMERICAL ATTRIBUTES RELATE TO THE TARGET FEATURE.**"
   ]
  },
  {
   "cell_type": "code",
   "execution_count": 18,
   "id": "367b77ae",
   "metadata": {
    "execution": {
     "iopub.execute_input": "2024-08-26T19:37:24.644157Z",
     "iopub.status.busy": "2024-08-26T19:37:24.643787Z",
     "iopub.status.idle": "2024-08-26T19:37:24.650771Z",
     "shell.execute_reply": "2024-08-26T19:37:24.649320Z"
    },
    "papermill": {
     "duration": 0.029022,
     "end_time": "2024-08-26T19:37:24.653362",
     "exception": false,
     "start_time": "2024-08-26T19:37:24.624340",
     "status": "completed"
    },
    "tags": []
   },
   "outputs": [],
   "source": [
    "num_col_pre = train_data.select_dtypes(include='number', exclude='boolean')\n",
    "num_col = [col for col in num_col_pre if col != 'PassengerId']\n"
   ]
  },
  {
   "cell_type": "code",
   "execution_count": 19,
   "id": "7b7ca3ef",
   "metadata": {
    "execution": {
     "iopub.execute_input": "2024-08-26T19:37:24.691772Z",
     "iopub.status.busy": "2024-08-26T19:37:24.691394Z",
     "iopub.status.idle": "2024-08-26T19:37:25.542529Z",
     "shell.execute_reply": "2024-08-26T19:37:25.541347Z"
    },
    "papermill": {
     "duration": 0.873173,
     "end_time": "2024-08-26T19:37:25.544910",
     "exception": false,
     "start_time": "2024-08-26T19:37:24.671737",
     "status": "completed"
    },
    "tags": []
   },
   "outputs": [
    {
     "data": {
      "image/png": "[encoded data removed]",
      "text/plain": [
       "<Figure size 1500x500 with 5 Axes>"
      ]
     },
     "metadata": {},
     "output_type": "display_data"
    }
   ],
   "source": [
    "fig, axes = plt.subplots(1,5,figsize=(15,5))\n",
    "for i in range(len(num_col)): \n",
    "    sns.boxplot(x=train_data['Survived'], y = X_num[num_col[i]], ax=axes[i] , width = 0.9)"
   ]
  },
  {
   "cell_type": "markdown",
   "id": "43ee6cc8",
   "metadata": {
    "papermill": {
     "duration": 0.018608,
     "end_time": "2024-08-26T19:37:25.582290",
     "exception": false,
     "start_time": "2024-08-26T19:37:25.563682",
     "status": "completed"
    },
    "tags": []
   },
   "source": [
    "**WE CANNOT SEE ANY SIGNIFICANT RELATIONSHIP BETWEEN THE NUMERICAL ATTRIBUTES AND THE TARGET FEATURE.**"
   ]
  },
  {
   "cell_type": "markdown",
   "id": "4e79dd58",
   "metadata": {
    "papermill": {
     "duration": 0.01861,
     "end_time": "2024-08-26T19:37:25.620288",
     "exception": false,
     "start_time": "2024-08-26T19:37:25.601678",
     "status": "completed"
    },
    "tags": []
   },
   "source": [
    "**Let us detect the outliers in the numerical features of the data.**"
   ]
  },
  {
   "cell_type": "code",
   "execution_count": 20,
   "id": "300f4db1",
   "metadata": {
    "execution": {
     "iopub.execute_input": "2024-08-26T19:37:25.659537Z",
     "iopub.status.busy": "2024-08-26T19:37:25.659125Z",
     "iopub.status.idle": "2024-08-26T19:37:26.315669Z",
     "shell.execute_reply": "2024-08-26T19:37:26.314284Z"
    },
    "papermill": {
     "duration": 0.679362,
     "end_time": "2024-08-26T19:37:26.318372",
     "exception": false,
     "start_time": "2024-08-26T19:37:25.639010",
     "status": "completed"
    },
    "tags": []
   },
   "outputs": [
    {
     "data": {
      "image/png": "[encoded data removed]",
      "text/plain": [
       "<Figure size 1500x500 with 5 Axes>"
      ]
     },
     "metadata": {},
     "output_type": "display_data"
    }
   ],
   "source": [
    "fig, axes = plt.subplots(1,5,figsize=(15,5))\n",
    "for i in range(len(num_col)): \n",
    "    X_num.boxplot(column = num_col[i],ax=axes[i])"
   ]
  },
  {
   "cell_type": "markdown",
   "id": "1a7e3659",
   "metadata": {
    "papermill": {
     "duration": 0.019287,
     "end_time": "2024-08-26T19:37:26.357417",
     "exception": false,
     "start_time": "2024-08-26T19:37:26.338130",
     "status": "completed"
    },
    "tags": []
   },
   "source": [
    "#### The consideration of removing or transforming the outliers depends on a lot of things. If the data is wrongly entered, then one might consider to handle the outliers but if the data contains a lot of outliers expressing the variability of the data, then we might not do anything to change the outlier instances. In that case, for training we might consider models that are more robust to outliers. Models based on ditance measure are prone to be affected by outliers. Most convenient models in this are tree based models that are more robust to outliers.  "
   ]
  },
  {
   "cell_type": "markdown",
   "id": "8c8f22fa",
   "metadata": {
    "papermill": {
     "duration": 0.019203,
     "end_time": "2024-08-26T19:37:26.395993",
     "exception": false,
     "start_time": "2024-08-26T19:37:26.376790",
     "status": "completed"
    },
    "tags": []
   },
   "source": [
    "#### Let us now examine the categorical attributes."
   ]
  },
  {
   "cell_type": "code",
   "execution_count": 21,
   "id": "ee82df24",
   "metadata": {
    "execution": {
     "iopub.execute_input": "2024-08-26T19:37:26.437630Z",
     "iopub.status.busy": "2024-08-26T19:37:26.436599Z",
     "iopub.status.idle": "2024-08-26T19:37:26.460314Z",
     "shell.execute_reply": "2024-08-26T19:37:26.459105Z"
    },
    "papermill": {
     "duration": 0.047173,
     "end_time": "2024-08-26T19:37:26.462623",
     "exception": false,
     "start_time": "2024-08-26T19:37:26.415450",
     "status": "completed"
    },
    "tags": []
   },
   "outputs": [
    {
     "name": "stdout",
     "output_type": "stream",
     "text": [
      "count       891\n",
      "unique        2\n",
      "top       False\n",
      "freq        549\n",
      "Name: Survived, dtype: object\n",
      "count     891\n",
      "unique      3\n",
      "top         3\n",
      "freq      491\n",
      "Name: Pclass, dtype: int64\n",
      "count                     891\n",
      "unique                    891\n",
      "top       Abbing, Mr. Anthony\n",
      "freq                        1\n",
      "Name: Name, dtype: object\n",
      "count      891\n",
      "unique       2\n",
      "top       male\n",
      "freq       577\n",
      "Name: Sex, dtype: object\n",
      "count      891\n",
      "unique     681\n",
      "top       1601\n",
      "freq         7\n",
      "Name: Ticket, dtype: object\n",
      "count             204\n",
      "unique            147\n",
      "top       C23 C25 C27\n",
      "freq                4\n",
      "Name: Cabin, dtype: object\n",
      "count     889\n",
      "unique      3\n",
      "top         S\n",
      "freq      644\n",
      "Name: Embarked, dtype: object\n"
     ]
    }
   ],
   "source": [
    "cat_data = train_data.select_dtypes(include=[\"category\",\"boolean\"])\n",
    "def count_of_each_attribute():\n",
    "    for col in cat_data.columns:\n",
    "        print(cat_data[col].describe())\n",
    "\n",
    "count_of_each_attribute()"
   ]
  },
  {
   "cell_type": "markdown",
   "id": "9591415c",
   "metadata": {
    "papermill": {
     "duration": 0.019528,
     "end_time": "2024-08-26T19:37:26.501744",
     "exception": false,
     "start_time": "2024-08-26T19:37:26.482216",
     "status": "completed"
    },
    "tags": []
   },
   "source": []
  },
  {
   "cell_type": "markdown",
   "id": "034f0449",
   "metadata": {
    "papermill": {
     "duration": 0.019319,
     "end_time": "2024-08-26T19:37:26.540674",
     "exception": false,
     "start_time": "2024-08-26T19:37:26.521355",
     "status": "completed"
    },
    "tags": []
   },
   "source": [
    "**We do not get use any useful information from the features Name, Cabin and Ticket because there are too many categories for each of these attributes to consider. Therefore, we consider only Pclass, Sex and Embarked.**"
   ]
  },
  {
   "cell_type": "markdown",
   "id": "b0c597f7",
   "metadata": {
    "papermill": {
     "duration": 0.019217,
     "end_time": "2024-08-26T19:37:26.579657",
     "exception": false,
     "start_time": "2024-08-26T19:37:26.560440",
     "status": "completed"
    },
    "tags": []
   },
   "source": [
    "**LET US LOOK AT RELATIONSHIP BETWEEN THE NUMERICAL AND CATEGORICAL FEATURES.**"
   ]
  },
  {
   "cell_type": "markdown",
   "id": "2f20b3cd",
   "metadata": {
    "papermill": {
     "duration": 0.019242,
     "end_time": "2024-08-26T19:37:26.618365",
     "exception": false,
     "start_time": "2024-08-26T19:37:26.599123",
     "status": "completed"
    },
    "tags": []
   },
   "source": [
    "**NUMERICAL FEATURES VS Pclass**"
   ]
  },
  {
   "cell_type": "code",
   "execution_count": 22,
   "id": "06141682",
   "metadata": {
    "execution": {
     "iopub.execute_input": "2024-08-26T19:37:26.660384Z",
     "iopub.status.busy": "2024-08-26T19:37:26.659975Z",
     "iopub.status.idle": "2024-08-26T19:37:27.451999Z",
     "shell.execute_reply": "2024-08-26T19:37:27.450972Z"
    },
    "papermill": {
     "duration": 0.816487,
     "end_time": "2024-08-26T19:37:27.454377",
     "exception": false,
     "start_time": "2024-08-26T19:37:26.637890",
     "status": "completed"
    },
    "tags": []
   },
   "outputs": [
    {
     "data": {
      "image/png": "[encoded data removed]",
      "text/plain": [
       "<Figure size 1500x500 with 5 Axes>"
      ]
     },
     "metadata": {},
     "output_type": "display_data"
    }
   ],
   "source": [
    "\n",
    "fig, axes = plt.subplots(1,5,figsize=(15,5))\n",
    "for i in range(len(num_col)): \n",
    "    sns.boxplot(x=train_data['Pclass'], y = X_num[num_col[i]], ax=axes[i] , width = 0.9)"
   ]
  },
  {
   "cell_type": "markdown",
   "id": "91f6653a",
   "metadata": {
    "papermill": {
     "duration": 0.020708,
     "end_time": "2024-08-26T19:37:27.497073",
     "exception": false,
     "start_time": "2024-08-26T19:37:27.476365",
     "status": "completed"
    },
    "tags": []
   },
   "source": [
    "**Pclass HAS A STRONG RELATIONSHIP WITH AGE, PARCH AND FARE. WE CAN CLEARLY SEE HOW THE DISTRIBUTIONS OF THE NUMERICAL ATTRIBUTES CHANGE WITH DIFFERENT VALUES OF THE Pclass.**"
   ]
  },
  {
   "cell_type": "markdown",
   "id": "23683939",
   "metadata": {
    "papermill": {
     "duration": 0.020199,
     "end_time": "2024-08-26T19:37:27.538651",
     "exception": false,
     "start_time": "2024-08-26T19:37:27.518452",
     "status": "completed"
    },
    "tags": []
   },
   "source": [
    "**Numerical vs Sex.**"
   ]
  },
  {
   "cell_type": "code",
   "execution_count": 23,
   "id": "765f37f6",
   "metadata": {
    "execution": {
     "iopub.execute_input": "2024-08-26T19:37:27.582498Z",
     "iopub.status.busy": "2024-08-26T19:37:27.581571Z",
     "iopub.status.idle": "2024-08-26T19:37:28.299826Z",
     "shell.execute_reply": "2024-08-26T19:37:28.298766Z"
    },
    "papermill": {
     "duration": 0.743146,
     "end_time": "2024-08-26T19:37:28.302038",
     "exception": false,
     "start_time": "2024-08-26T19:37:27.558892",
     "status": "completed"
    },
    "tags": []
   },
   "outputs": [
    {
     "data": {
      "image/png": "[encoded data removed]",
      "text/plain": [
       "<Figure size 1500x500 with 5 Axes>"
      ]
     },
     "metadata": {},
     "output_type": "display_data"
    }
   ],
   "source": [
    "fig, axes = plt.subplots(1,5,figsize=(15,5))\n",
    "for i in range(len(num_col)): \n",
    "    sns.boxplot(x=train_data['Sex'], y = X_num[num_col[i]], ax=axes[i] , width = 0.9)"
   ]
  },
  {
   "cell_type": "markdown",
   "id": "897bb01e",
   "metadata": {
    "papermill": {
     "duration": 0.020564,
     "end_time": "2024-08-26T19:37:28.343619",
     "exception": false,
     "start_time": "2024-08-26T19:37:28.323055",
     "status": "completed"
    },
    "tags": []
   },
   "source": [
    "**No significant correlation between any of the numerical attributes and the Sex attribute.**"
   ]
  },
  {
   "cell_type": "markdown",
   "id": "39fac8e9",
   "metadata": {
    "papermill": {
     "duration": 0.020684,
     "end_time": "2024-08-26T19:37:28.385071",
     "exception": false,
     "start_time": "2024-08-26T19:37:28.364387",
     "status": "completed"
    },
    "tags": []
   },
   "source": [
    "**Numerical vs Embarked.**"
   ]
  },
  {
   "cell_type": "code",
   "execution_count": 24,
   "id": "b208ccc9",
   "metadata": {
    "execution": {
     "iopub.execute_input": "2024-08-26T19:37:28.428476Z",
     "iopub.status.busy": "2024-08-26T19:37:28.428079Z",
     "iopub.status.idle": "2024-08-26T19:37:29.367678Z",
     "shell.execute_reply": "2024-08-26T19:37:29.366654Z"
    },
    "papermill": {
     "duration": 0.964303,
     "end_time": "2024-08-26T19:37:29.370351",
     "exception": false,
     "start_time": "2024-08-26T19:37:28.406048",
     "status": "completed"
    },
    "tags": []
   },
   "outputs": [
    {
     "data": {
      "image/png": "[encoded data removed]",
      "text/plain": [
       "<Figure size 1500x500 with 5 Axes>"
      ]
     },
     "metadata": {},
     "output_type": "display_data"
    }
   ],
   "source": [
    "fig, axes = plt.subplots(1,5,figsize=(15,5))\n",
    "for i in range(len(num_col)): \n",
    "    sns.boxplot(x=train_data['Embarked'], y = X_num[num_col[i]], ax=axes[i] , width = 0.9)"
   ]
  },
  {
   "cell_type": "markdown",
   "id": "21bc2089",
   "metadata": {
    "papermill": {
     "duration": 0.021191,
     "end_time": "2024-08-26T19:37:29.413197",
     "exception": false,
     "start_time": "2024-08-26T19:37:29.392006",
     "status": "completed"
    },
    "tags": []
   },
   "source": [
    "**Again no significant correlation.**"
   ]
  },
  {
   "cell_type": "markdown",
   "id": "2e7cc060",
   "metadata": {
    "papermill": {
     "duration": 0.021275,
     "end_time": "2024-08-26T19:37:29.455993",
     "exception": false,
     "start_time": "2024-08-26T19:37:29.434718",
     "status": "completed"
    },
    "tags": []
   },
   "source": [
    "#### We are done with the exploratory data analysis part. We can start with the preprocessing part."
   ]
  },
  {
   "cell_type": "code",
   "execution_count": 25,
   "id": "9851943f",
   "metadata": {
    "execution": {
     "iopub.execute_input": "2024-08-26T19:37:29.500647Z",
     "iopub.status.busy": "2024-08-26T19:37:29.500257Z",
     "iopub.status.idle": "2024-08-26T19:37:29.504898Z",
     "shell.execute_reply": "2024-08-26T19:37:29.503957Z"
    },
    "papermill": {
     "duration": 0.029626,
     "end_time": "2024-08-26T19:37:29.507114",
     "exception": false,
     "start_time": "2024-08-26T19:37:29.477488",
     "status": "completed"
    },
    "tags": []
   },
   "outputs": [],
   "source": [
    "num_pipeline = make_pipeline(SimpleImputer(strategy=\"median\")\n",
    "                            ,StandardScaler())"
   ]
  },
  {
   "cell_type": "code",
   "execution_count": 26,
   "id": "b223e71f",
   "metadata": {
    "execution": {
     "iopub.execute_input": "2024-08-26T19:37:29.552388Z",
     "iopub.status.busy": "2024-08-26T19:37:29.551962Z",
     "iopub.status.idle": "2024-08-26T19:37:29.557041Z",
     "shell.execute_reply": "2024-08-26T19:37:29.556042Z"
    },
    "papermill": {
     "duration": 0.030329,
     "end_time": "2024-08-26T19:37:29.559142",
     "exception": false,
     "start_time": "2024-08-26T19:37:29.528813",
     "status": "completed"
    },
    "tags": []
   },
   "outputs": [],
   "source": [
    "cat_pipeline = make_pipeline(SimpleImputer(strategy=\"most_frequent\")\n",
    "                            ,OneHotEncoder(handle_unknown=\"ignore\"))"
   ]
  },
  {
   "cell_type": "code",
   "execution_count": 27,
   "id": "410d29d4",
   "metadata": {
    "execution": {
     "iopub.execute_input": "2024-08-26T19:37:29.604030Z",
     "iopub.status.busy": "2024-08-26T19:37:29.603643Z",
     "iopub.status.idle": "2024-08-26T19:37:29.608846Z",
     "shell.execute_reply": "2024-08-26T19:37:29.607889Z"
    },
    "papermill": {
     "duration": 0.029955,
     "end_time": "2024-08-26T19:37:29.610940",
     "exception": false,
     "start_time": "2024-08-26T19:37:29.580985",
     "status": "completed"
    },
    "tags": []
   },
   "outputs": [],
   "source": [
    "def drop_attribute(data,lst = None):\n",
    "    for attr in lst:\n",
    "        data.drop(columns=attr, inplace=True)\n",
    "        \n",
    "def transform_frame():\n",
    "    return FunctionTransformer(drop_attribute)\n",
    "    "
   ]
  },
  {
   "cell_type": "code",
   "execution_count": 28,
   "id": "0bc4e5ed",
   "metadata": {
    "execution": {
     "iopub.execute_input": "2024-08-26T19:37:29.655425Z",
     "iopub.status.busy": "2024-08-26T19:37:29.655040Z",
     "iopub.status.idle": "2024-08-26T19:37:29.660578Z",
     "shell.execute_reply": "2024-08-26T19:37:29.659466Z"
    },
    "papermill": {
     "duration": 0.030533,
     "end_time": "2024-08-26T19:37:29.662966",
     "exception": false,
     "start_time": "2024-08-26T19:37:29.632433",
     "status": "completed"
    },
    "tags": []
   },
   "outputs": [],
   "source": [
    "preprocessing = ColumnTransformer(\n",
    "[(\"num\",num_pipeline,make_column_selector(dtype_include=np.number)),\n",
    "(\"cat\",cat_pipeline,make_column_selector(dtype_include='category'))])\n"
   ]
  },
  {
   "cell_type": "code",
   "execution_count": 29,
   "id": "6750f401",
   "metadata": {
    "execution": {
     "iopub.execute_input": "2024-08-26T19:37:29.708098Z",
     "iopub.status.busy": "2024-08-26T19:37:29.707732Z",
     "iopub.status.idle": "2024-08-26T19:37:29.714192Z",
     "shell.execute_reply": "2024-08-26T19:37:29.713172Z"
    },
    "papermill": {
     "duration": 0.031325,
     "end_time": "2024-08-26T19:37:29.716170",
     "exception": false,
     "start_time": "2024-08-26T19:37:29.684845",
     "status": "completed"
    },
    "tags": []
   },
   "outputs": [],
   "source": [
    "X_train =  train_data[['Pclass', 'Sex', 'Age', \n",
    "       'Fare', 'Embarked', 'Family_Size']]\n",
    "Y_train = train_data['Survived']"
   ]
  },
  {
   "cell_type": "code",
   "execution_count": 30,
   "id": "09670ba7",
   "metadata": {
    "execution": {
     "iopub.execute_input": "2024-08-26T19:37:29.762193Z",
     "iopub.status.busy": "2024-08-26T19:37:29.761330Z",
     "iopub.status.idle": "2024-08-26T19:37:29.786615Z",
     "shell.execute_reply": "2024-08-26T19:37:29.785531Z"
    },
    "papermill": {
     "duration": 0.051021,
     "end_time": "2024-08-26T19:37:29.788822",
     "exception": false,
     "start_time": "2024-08-26T19:37:29.737801",
     "status": "completed"
    },
    "tags": []
   },
   "outputs": [
    {
     "data": {
      "text/plain": [
       "(891, 11)"
      ]
     },
     "execution_count": 30,
     "metadata": {},
     "output_type": "execute_result"
    }
   ],
   "source": [
    "\n",
    "train_data_preprocessed = preprocessing.fit_transform(X_train)\n",
    "train_data_preprocessed.shape"
   ]
  },
  {
   "cell_type": "code",
   "execution_count": 31,
   "id": "7519f624",
   "metadata": {
    "execution": {
     "iopub.execute_input": "2024-08-26T19:37:29.834922Z",
     "iopub.status.busy": "2024-08-26T19:37:29.834514Z",
     "iopub.status.idle": "2024-08-26T19:37:29.840087Z",
     "shell.execute_reply": "2024-08-26T19:37:29.839104Z"
    },
    "papermill": {
     "duration": 0.031667,
     "end_time": "2024-08-26T19:37:29.842284",
     "exception": false,
     "start_time": "2024-08-26T19:37:29.810617",
     "status": "completed"
    },
    "tags": []
   },
   "outputs": [],
   "source": [
    "X_train_preprocessed = pd.DataFrame(train_data_preprocessed,\n",
    "                                    columns=preprocessing.get_feature_names_out(),\n",
    "                                   index = train_data.index)"
   ]
  },
  {
   "cell_type": "markdown",
   "id": "da04fc42",
   "metadata": {
    "papermill": {
     "duration": 0.021492,
     "end_time": "2024-08-26T19:37:29.885659",
     "exception": false,
     "start_time": "2024-08-26T19:37:29.864167",
     "status": "completed"
    },
    "tags": []
   },
   "source": [
    "#### We can now train various models on the training set. We can use GridSearch CV to control and choose optimal hyperparameters for our model."
   ]
  },
  {
   "cell_type": "markdown",
   "id": "285543cb",
   "metadata": {
    "papermill": {
     "duration": 0.021394,
     "end_time": "2024-08-26T19:37:29.929046",
     "exception": false,
     "start_time": "2024-08-26T19:37:29.907652",
     "status": "completed"
    },
    "tags": []
   },
   "source": [
    "### Training a linear model (SVC)"
   ]
  },
  {
   "cell_type": "code",
   "execution_count": 32,
   "id": "eaa0f955",
   "metadata": {
    "execution": {
     "iopub.execute_input": "2024-08-26T19:37:29.976405Z",
     "iopub.status.busy": "2024-08-26T19:37:29.976023Z",
     "iopub.status.idle": "2024-08-26T19:37:29.980801Z",
     "shell.execute_reply": "2024-08-26T19:37:29.979770Z"
    },
    "papermill": {
     "duration": 0.031341,
     "end_time": "2024-08-26T19:37:29.982976",
     "exception": false,
     "start_time": "2024-08-26T19:37:29.951635",
     "status": "completed"
    },
    "tags": []
   },
   "outputs": [],
   "source": [
    "SVC_model = Pipeline(\n",
    "[\n",
    "    (\"preprocessing\", preprocessing),\n",
    "    (\"SVC\", SVC(random_state=42))\n",
    "]\n",
    ")"
   ]
  },
  {
   "cell_type": "code",
   "execution_count": 33,
   "id": "7e4e8075",
   "metadata": {
    "execution": {
     "iopub.execute_input": "2024-08-26T19:37:30.028470Z",
     "iopub.status.busy": "2024-08-26T19:37:30.028087Z",
     "iopub.status.idle": "2024-08-26T19:37:30.035005Z",
     "shell.execute_reply": "2024-08-26T19:37:30.033963Z"
    },
    "papermill": {
     "duration": 0.032516,
     "end_time": "2024-08-26T19:37:30.037296",
     "exception": false,
     "start_time": "2024-08-26T19:37:30.004780",
     "status": "completed"
    },
    "tags": []
   },
   "outputs": [],
   "source": [
    "parameters_grid = [\n",
    "    {\"SVC__kernel\" : ['linear', 'poly', 'rbf', 'sigmoid'],\n",
    "    \"SVC__C\":randint(1,10),\n",
    "    \"SVC__degree\":randint(3,10)} \n",
    "    # add the name of the model defined in the pipeline followed by a double underscore and then the parameter's name.\n",
    "]"
   ]
  },
  {
   "cell_type": "code",
   "execution_count": 34,
   "id": "195b3f2e",
   "metadata": {
    "execution": {
     "iopub.execute_input": "2024-08-26T19:37:30.083068Z",
     "iopub.status.busy": "2024-08-26T19:37:30.082674Z",
     "iopub.status.idle": "2024-08-26T19:37:31.638474Z",
     "shell.execute_reply": "2024-08-26T19:37:31.637492Z"
    },
    "papermill": {
     "duration": 1.5812,
     "end_time": "2024-08-26T19:37:31.641043",
     "exception": false,
     "start_time": "2024-08-26T19:37:30.059843",
     "status": "completed"
    },
    "tags": []
   },
   "outputs": [
    {
     "data": {
      "text/html": [
       "<style>#sk-container-id-1 {color: black;background-color: white;}#sk-container-id-1 pre{padding: 0;}#sk-container-id-1 div.sk-toggleable {background-color: white;}#sk-container-id-1 label.sk-toggleable__label {cursor: pointer;display: block;width: 100%;margin-bottom: 0;padding: 0.3em;box-sizing: border-box;text-align: center;}#sk-container-id-1 label.sk-toggleable__label-arrow:before {content: \"▸\";float: left;margin-right: 0.25em;color: #696969;}#sk-container-id-1 label.sk-toggleable__label-arrow:hover:before {color: black;}#sk-container-id-1 div.sk-estimator:hover label.sk-toggleable__label-arrow:before {color: black;}#sk-container-id-1 div.sk-toggleable__content {max-height: 0;max-width: 0;overflow: hidden;text-align: left;background-color: #f0f8ff;}#sk-container-id-1 div.sk-toggleable__content pre {margin: 0.2em;color: black;border-radius: 0.25em;background-color: #f0f8ff;}#sk-container-id-1 input.sk-toggleable__control:checked~div.sk-toggleable__content {max-height: 200px;max-width: 100%;overflow: auto;}#sk-container-id-1 input.sk-toggleable__control:checked~label.sk-toggleable__label-arrow:before {content: \"▾\";}#sk-container-id-1 div.sk-estimator input.sk-toggleable__control:checked~label.sk-toggleable__label {background-color: #d4ebff;}#sk-container-id-1 div.sk-label input.sk-toggleable__control:checked~label.sk-toggleable__label {background-color: #d4ebff;}#sk-container-id-1 input.sk-hidden--visually {border: 0;clip: rect(1px 1px 1px 1px);clip: rect(1px, 1px, 1px, 1px);height: 1px;margin: -1px;overflow: hidden;padding: 0;position: absolute;width: 1px;}#sk-container-id-1 div.sk-estimator {font-family: monospace;background-color: #f0f8ff;border: 1px dotted black;border-radius: 0.25em;box-sizing: border-box;margin-bottom: 0.5em;}#sk-container-id-1 div.sk-estimator:hover {background-color: #d4ebff;}#sk-container-id-1 div.sk-parallel-item::after {content: \"\";width: 100%;border-bottom: 1px solid gray;flex-grow: 1;}#sk-container-id-1 div.sk-label:hover label.sk-toggleable__label {background-color: #d4ebff;}#sk-container-id-1 div.sk-serial::before {content: \"\";position: absolute;border-left: 1px solid gray;box-sizing: border-box;top: 0;bottom: 0;left: 50%;z-index: 0;}#sk-container-id-1 div.sk-serial {display: flex;flex-direction: column;align-items: center;background-color: white;padding-right: 0.2em;padding-left: 0.2em;position: relative;}#sk-container-id-1 div.sk-item {position: relative;z-index: 1;}#sk-container-id-1 div.sk-parallel {display: flex;align-items: stretch;justify-content: center;background-color: white;position: relative;}#sk-container-id-1 div.sk-item::before, #sk-container-id-1 div.sk-parallel-item::before {content: \"\";position: absolute;border-left: 1px solid gray;box-sizing: border-box;top: 0;bottom: 0;left: 50%;z-index: -1;}#sk-container-id-1 div.sk-parallel-item {display: flex;flex-direction: column;z-index: 1;position: relative;background-color: white;}#sk-container-id-1 div.sk-parallel-item:first-child::after {align-self: flex-end;width: 50%;}#sk-container-id-1 div.sk-parallel-item:last-child::after {align-self: flex-start;width: 50%;}#sk-container-id-1 div.sk-parallel-item:only-child::after {width: 0;}#sk-container-id-1 div.sk-dashed-wrapped {border: 1px dashed gray;margin: 0 0.4em 0.5em 0.4em;box-sizing: border-box;padding-bottom: 0.4em;background-color: white;}#sk-container-id-1 div.sk-label label {font-family: monospace;font-weight: bold;display: inline-block;line-height: 1.2em;}#sk-container-id-1 div.sk-label-container {text-align: center;}#sk-container-id-1 div.sk-container {/* jupyter's `normalize.less` sets `[hidden] { display: none; }` but bootstrap.min.css set `[hidden] { display: none !important; }` so we also need the `!important` here to be able to override the default hidden behavior on the sphinx rendered scikit-learn.org. See: https://github.com/scikit-learn/scikit-learn/issues/21755 */display: inline-block !important;position: relative;}#sk-container-id-1 div.sk-text-repr-fallback {display: none;}</style><div id=\"sk-container-id-1\" class=\"sk-top-container\"><div class=\"sk-text-repr-fallback\"><pre>RandomizedSearchCV(cv=3,\n",
       "                   estimator=Pipeline(steps=[(&#x27;preprocessing&#x27;,\n",
       "                                              ColumnTransformer(transformers=[(&#x27;num&#x27;,\n",
       "                                                                               Pipeline(steps=[(&#x27;simpleimputer&#x27;,\n",
       "                                                                                                SimpleImputer(strategy=&#x27;median&#x27;)),\n",
       "                                                                                               (&#x27;standardscaler&#x27;,\n",
       "                                                                                                StandardScaler())]),\n",
       "                                                                               &lt;sklearn.compose._column_transformer.make_column_selector object at 0x7a26aec64910&gt;),\n",
       "                                                                              (&#x27;cat&#x27;,\n",
       "                                                                               Pipeline(steps=[(&#x27;simpleimputer&#x27;,\n",
       "                                                                                                SimpleImputer(str...\n",
       "                                                                               &lt;sklearn.compose._column_transformer.make_column_selector object at 0x7a26aec64dc0&gt;)])),\n",
       "                                             (&#x27;SVC&#x27;, SVC(random_state=42))]),\n",
       "                   param_distributions=[{&#x27;SVC__C&#x27;: &lt;scipy.stats._distn_infrastructure.rv_discrete_frozen object at 0x7a26aec65390&gt;,\n",
       "                                         &#x27;SVC__degree&#x27;: &lt;scipy.stats._distn_infrastructure.rv_discrete_frozen object at 0x7a26aec670d0&gt;,\n",
       "                                         &#x27;SVC__kernel&#x27;: [&#x27;linear&#x27;, &#x27;poly&#x27;,\n",
       "                                                         &#x27;rbf&#x27;, &#x27;sigmoid&#x27;]}])</pre><b>In a Jupyter environment, please rerun this cell to show the HTML representation or trust the notebook. <br />On GitHub, the HTML representation is unable to render, please try loading this page with nbviewer.org.</b></div><div class=\"sk-container\" hidden><div class=\"sk-item sk-dashed-wrapped\"><div class=\"sk-label-container\"><div class=\"sk-label sk-toggleable\"><input class=\"sk-toggleable__control sk-hidden--visually\" id=\"sk-estimator-id-1\" type=\"checkbox\" ><label for=\"sk-estimator-id-1\" class=\"sk-toggleable__label sk-toggleable__label-arrow\">RandomizedSearchCV</label><div class=\"sk-toggleable__content\"><pre>RandomizedSearchCV(cv=3,\n",
       "                   estimator=Pipeline(steps=[(&#x27;preprocessing&#x27;,\n",
       "                                              ColumnTransformer(transformers=[(&#x27;num&#x27;,\n",
       "                                                                               Pipeline(steps=[(&#x27;simpleimputer&#x27;,\n",
       "                                                                                                SimpleImputer(strategy=&#x27;median&#x27;)),\n",
       "                                                                                               (&#x27;standardscaler&#x27;,\n",
       "                                                                                                StandardScaler())]),\n",
       "                                                                               &lt;sklearn.compose._column_transformer.make_column_selector object at 0x7a26aec64910&gt;),\n",
       "                                                                              (&#x27;cat&#x27;,\n",
       "                                                                               Pipeline(steps=[(&#x27;simpleimputer&#x27;,\n",
       "                                                                                                SimpleImputer(str...\n",
       "                                                                               &lt;sklearn.compose._column_transformer.make_column_selector object at 0x7a26aec64dc0&gt;)])),\n",
       "                                             (&#x27;SVC&#x27;, SVC(random_state=42))]),\n",
       "                   param_distributions=[{&#x27;SVC__C&#x27;: &lt;scipy.stats._distn_infrastructure.rv_discrete_frozen object at 0x7a26aec65390&gt;,\n",
       "                                         &#x27;SVC__degree&#x27;: &lt;scipy.stats._distn_infrastructure.rv_discrete_frozen object at 0x7a26aec670d0&gt;,\n",
       "                                         &#x27;SVC__kernel&#x27;: [&#x27;linear&#x27;, &#x27;poly&#x27;,\n",
       "                                                         &#x27;rbf&#x27;, &#x27;sigmoid&#x27;]}])</pre></div></div></div><div class=\"sk-parallel\"><div class=\"sk-parallel-item\"><div class=\"sk-item\"><div class=\"sk-label-container\"><div class=\"sk-label sk-toggleable\"><input class=\"sk-toggleable__control sk-hidden--visually\" id=\"sk-estimator-id-2\" type=\"checkbox\" ><label for=\"sk-estimator-id-2\" class=\"sk-toggleable__label sk-toggleable__label-arrow\">estimator: Pipeline</label><div class=\"sk-toggleable__content\"><pre>Pipeline(steps=[(&#x27;preprocessing&#x27;,\n",
       "                 ColumnTransformer(transformers=[(&#x27;num&#x27;,\n",
       "                                                  Pipeline(steps=[(&#x27;simpleimputer&#x27;,\n",
       "                                                                   SimpleImputer(strategy=&#x27;median&#x27;)),\n",
       "                                                                  (&#x27;standardscaler&#x27;,\n",
       "                                                                   StandardScaler())]),\n",
       "                                                  &lt;sklearn.compose._column_transformer.make_column_selector object at 0x7a26aec64910&gt;),\n",
       "                                                 (&#x27;cat&#x27;,\n",
       "                                                  Pipeline(steps=[(&#x27;simpleimputer&#x27;,\n",
       "                                                                   SimpleImputer(strategy=&#x27;most_frequent&#x27;)),\n",
       "                                                                  (&#x27;onehotencoder&#x27;,\n",
       "                                                                   OneHotEncoder(handle_unknown=&#x27;ignore&#x27;))]),\n",
       "                                                  &lt;sklearn.compose._column_transformer.make_column_selector object at 0x7a26aec64dc0&gt;)])),\n",
       "                (&#x27;SVC&#x27;, SVC(random_state=42))])</pre></div></div></div><div class=\"sk-serial\"><div class=\"sk-item\"><div class=\"sk-serial\"><div class=\"sk-item sk-dashed-wrapped\"><div class=\"sk-label-container\"><div class=\"sk-label sk-toggleable\"><input class=\"sk-toggleable__control sk-hidden--visually\" id=\"sk-estimator-id-3\" type=\"checkbox\" ><label for=\"sk-estimator-id-3\" class=\"sk-toggleable__label sk-toggleable__label-arrow\">preprocessing: ColumnTransformer</label><div class=\"sk-toggleable__content\"><pre>ColumnTransformer(transformers=[(&#x27;num&#x27;,\n",
       "                                 Pipeline(steps=[(&#x27;simpleimputer&#x27;,\n",
       "                                                  SimpleImputer(strategy=&#x27;median&#x27;)),\n",
       "                                                 (&#x27;standardscaler&#x27;,\n",
       "                                                  StandardScaler())]),\n",
       "                                 &lt;sklearn.compose._column_transformer.make_column_selector object at 0x7a26aec64910&gt;),\n",
       "                                (&#x27;cat&#x27;,\n",
       "                                 Pipeline(steps=[(&#x27;simpleimputer&#x27;,\n",
       "                                                  SimpleImputer(strategy=&#x27;most_frequent&#x27;)),\n",
       "                                                 (&#x27;onehotencoder&#x27;,\n",
       "                                                  OneHotEncoder(handle_unknown=&#x27;ignore&#x27;))]),\n",
       "                                 &lt;sklearn.compose._column_transformer.make_column_selector object at 0x7a26aec64dc0&gt;)])</pre></div></div></div><div class=\"sk-parallel\"><div class=\"sk-parallel-item\"><div class=\"sk-item\"><div class=\"sk-label-container\"><div class=\"sk-label sk-toggleable\"><input class=\"sk-toggleable__control sk-hidden--visually\" id=\"sk-estimator-id-4\" type=\"checkbox\" ><label for=\"sk-estimator-id-4\" class=\"sk-toggleable__label sk-toggleable__label-arrow\">num</label><div class=\"sk-toggleable__content\"><pre>&lt;sklearn.compose._column_transformer.make_column_selector object at 0x7a26aec64910&gt;</pre></div></div></div><div class=\"sk-serial\"><div class=\"sk-item\"><div class=\"sk-serial\"><div class=\"sk-item\"><div class=\"sk-estimator sk-toggleable\"><input class=\"sk-toggleable__control sk-hidden--visually\" id=\"sk-estimator-id-5\" type=\"checkbox\" ><label for=\"sk-estimator-id-5\" class=\"sk-toggleable__label sk-toggleable__label-arrow\">SimpleImputer</label><div class=\"sk-toggleable__content\"><pre>SimpleImputer(strategy=&#x27;median&#x27;)</pre></div></div></div><div class=\"sk-item\"><div class=\"sk-estimator sk-toggleable\"><input class=\"sk-toggleable__control sk-hidden--visually\" id=\"sk-estimator-id-6\" type=\"checkbox\" ><label for=\"sk-estimator-id-6\" class=\"sk-toggleable__label sk-toggleable__label-arrow\">StandardScaler</label><div class=\"sk-toggleable__content\"><pre>StandardScaler()</pre></div></div></div></div></div></div></div></div><div class=\"sk-parallel-item\"><div class=\"sk-item\"><div class=\"sk-label-container\"><div class=\"sk-label sk-toggleable\"><input class=\"sk-toggleable__control sk-hidden--visually\" id=\"sk-estimator-id-7\" type=\"checkbox\" ><label for=\"sk-estimator-id-7\" class=\"sk-toggleable__label sk-toggleable__label-arrow\">cat</label><div class=\"sk-toggleable__content\"><pre>&lt;sklearn.compose._column_transformer.make_column_selector object at 0x7a26aec64dc0&gt;</pre></div></div></div><div class=\"sk-serial\"><div class=\"sk-item\"><div class=\"sk-serial\"><div class=\"sk-item\"><div class=\"sk-estimator sk-toggleable\"><input class=\"sk-toggleable__control sk-hidden--visually\" id=\"sk-estimator-id-8\" type=\"checkbox\" ><label for=\"sk-estimator-id-8\" class=\"sk-toggleable__label sk-toggleable__label-arrow\">SimpleImputer</label><div class=\"sk-toggleable__content\"><pre>SimpleImputer(strategy=&#x27;most_frequent&#x27;)</pre></div></div></div><div class=\"sk-item\"><div class=\"sk-estimator sk-toggleable\"><input class=\"sk-toggleable__control sk-hidden--visually\" id=\"sk-estimator-id-9\" type=\"checkbox\" ><label for=\"sk-estimator-id-9\" class=\"sk-toggleable__label sk-toggleable__label-arrow\">OneHotEncoder</label><div class=\"sk-toggleable__content\"><pre>OneHotEncoder(handle_unknown=&#x27;ignore&#x27;)</pre></div></div></div></div></div></div></div></div></div></div><div class=\"sk-item\"><div class=\"sk-estimator sk-toggleable\"><input class=\"sk-toggleable__control sk-hidden--visually\" id=\"sk-estimator-id-10\" type=\"checkbox\" ><label for=\"sk-estimator-id-10\" class=\"sk-toggleable__label sk-toggleable__label-arrow\">SVC</label><div class=\"sk-toggleable__content\"><pre>SVC(random_state=42)</pre></div></div></div></div></div></div></div></div></div></div></div></div>"
      ],
      "text/plain": [
       "RandomizedSearchCV(cv=3,\n",
       "                   estimator=Pipeline(steps=[('preprocessing',\n",
       "                                              ColumnTransformer(transformers=[('num',\n",
       "                                                                               Pipeline(steps=[('simpleimputer',\n",
       "                                                                                                SimpleImputer(strategy='median')),\n",
       "                                                                                               ('standardscaler',\n",
       "                                                                                                StandardScaler())]),\n",
       "                                                                               <sklearn.compose._column_transformer.make_column_selector object at 0x7a26aec64910>),\n",
       "                                                                              ('cat',\n",
       "                                                                               Pipeline(steps=[('simpleimputer',\n",
       "                                                                                                SimpleImputer(str...\n",
       "                                                                               <sklearn.compose._column_transformer.make_column_selector object at 0x7a26aec64dc0>)])),\n",
       "                                             ('SVC', SVC(random_state=42))]),\n",
       "                   param_distributions=[{'SVC__C': <scipy.stats._distn_infrastructure.rv_discrete_frozen object at 0x7a26aec65390>,\n",
       "                                         'SVC__degree': <scipy.stats._distn_infrastructure.rv_discrete_frozen object at 0x7a26aec670d0>,\n",
       "                                         'SVC__kernel': ['linear', 'poly',\n",
       "                                                         'rbf', 'sigmoid']}])"
      ]
     },
     "execution_count": 34,
     "metadata": {},
     "output_type": "execute_result"
    }
   ],
   "source": [
    "Random_search_svc = RandomizedSearchCV(SVC_model, parameters_grid, cv=3,\n",
    "                          ) \n",
    "# running the model on various hyperparamaters based on a score to find the best model\n",
    "Random_search_svc.fit(X_train,Y_train)"
   ]
  },
  {
   "cell_type": "code",
   "execution_count": 35,
   "id": "0700f3aa",
   "metadata": {
    "execution": {
     "iopub.execute_input": "2024-08-26T19:37:31.687511Z",
     "iopub.status.busy": "2024-08-26T19:37:31.687116Z",
     "iopub.status.idle": "2024-08-26T19:37:31.693711Z",
     "shell.execute_reply": "2024-08-26T19:37:31.692697Z"
    },
    "papermill": {
     "duration": 0.032204,
     "end_time": "2024-08-26T19:37:31.695774",
     "exception": false,
     "start_time": "2024-08-26T19:37:31.663570",
     "status": "completed"
    },
    "tags": []
   },
   "outputs": [
    {
     "data": {
      "text/plain": [
       "{'SVC__C': 5, 'SVC__degree': 9, 'SVC__kernel': 'rbf'}"
      ]
     },
     "execution_count": 35,
     "metadata": {},
     "output_type": "execute_result"
    }
   ],
   "source": [
    "Random_search_svc.best_params_"
   ]
  },
  {
   "cell_type": "code",
   "execution_count": 36,
   "id": "071d322d",
   "metadata": {
    "execution": {
     "iopub.execute_input": "2024-08-26T19:37:31.742485Z",
     "iopub.status.busy": "2024-08-26T19:37:31.741776Z",
     "iopub.status.idle": "2024-08-26T19:37:31.746364Z",
     "shell.execute_reply": "2024-08-26T19:37:31.745319Z"
    },
    "papermill": {
     "duration": 0.030288,
     "end_time": "2024-08-26T19:37:31.748452",
     "exception": false,
     "start_time": "2024-08-26T19:37:31.718164",
     "status": "completed"
    },
    "tags": []
   },
   "outputs": [],
   "source": [
    "svc_final_model = Random_search_svc.best_estimator_"
   ]
  },
  {
   "cell_type": "code",
   "execution_count": 37,
   "id": "e64566c9",
   "metadata": {
    "execution": {
     "iopub.execute_input": "2024-08-26T19:37:31.799078Z",
     "iopub.status.busy": "2024-08-26T19:37:31.798128Z",
     "iopub.status.idle": "2024-08-26T19:37:31.824049Z",
     "shell.execute_reply": "2024-08-26T19:37:31.822913Z"
    },
    "papermill": {
     "duration": 0.053389,
     "end_time": "2024-08-26T19:37:31.826341",
     "exception": false,
     "start_time": "2024-08-26T19:37:31.772952",
     "status": "completed"
    },
    "tags": []
   },
   "outputs": [
    {
     "data": {
      "text/html": [
       "<div>\n",
       "<style scoped>\n",
       "    .dataframe tbody tr th:only-of-type {\n",
       "        vertical-align: middle;\n",
       "    }\n",
       "\n",
       "    .dataframe tbody tr th {\n",
       "        vertical-align: top;\n",
       "    }\n",
       "\n",
       "    .dataframe thead th {\n",
       "        text-align: right;\n",
       "    }\n",
       "</style>\n",
       "<table border=\"1\" class=\"dataframe\">\n",
       "  <thead>\n",
       "    <tr style=\"text-align: right;\">\n",
       "      <th></th>\n",
       "      <th>mean_fit_time</th>\n",
       "      <th>std_fit_time</th>\n",
       "      <th>mean_score_time</th>\n",
       "      <th>std_score_time</th>\n",
       "      <th>param_SVC__C</th>\n",
       "      <th>param_SVC__degree</th>\n",
       "      <th>param_SVC__kernel</th>\n",
       "      <th>params</th>\n",
       "      <th>split0_test_score</th>\n",
       "      <th>split1_test_score</th>\n",
       "      <th>split2_test_score</th>\n",
       "      <th>mean_test_score</th>\n",
       "      <th>std_test_score</th>\n",
       "      <th>rank_test_score</th>\n",
       "    </tr>\n",
       "  </thead>\n",
       "  <tbody>\n",
       "    <tr>\n",
       "      <th>3</th>\n",
       "      <td>0.026816</td>\n",
       "      <td>0.000434</td>\n",
       "      <td>0.012953</td>\n",
       "      <td>0.000371</td>\n",
       "      <td>5</td>\n",
       "      <td>9</td>\n",
       "      <td>rbf</td>\n",
       "      <td>{'SVC__C': 5, 'SVC__degree': 9, 'SVC__kernel':...</td>\n",
       "      <td>0.808081</td>\n",
       "      <td>0.824916</td>\n",
       "      <td>0.838384</td>\n",
       "      <td>0.823793</td>\n",
       "      <td>0.012397</td>\n",
       "      <td>1</td>\n",
       "    </tr>\n",
       "    <tr>\n",
       "      <th>8</th>\n",
       "      <td>0.026817</td>\n",
       "      <td>0.000600</td>\n",
       "      <td>0.012415</td>\n",
       "      <td>0.000173</td>\n",
       "      <td>8</td>\n",
       "      <td>7</td>\n",
       "      <td>rbf</td>\n",
       "      <td>{'SVC__C': 8, 'SVC__degree': 7, 'SVC__kernel':...</td>\n",
       "      <td>0.808081</td>\n",
       "      <td>0.824916</td>\n",
       "      <td>0.831650</td>\n",
       "      <td>0.821549</td>\n",
       "      <td>0.009912</td>\n",
       "      <td>2</td>\n",
       "    </tr>\n",
       "    <tr>\n",
       "      <th>4</th>\n",
       "      <td>0.027538</td>\n",
       "      <td>0.000672</td>\n",
       "      <td>0.012713</td>\n",
       "      <td>0.000205</td>\n",
       "      <td>9</td>\n",
       "      <td>3</td>\n",
       "      <td>rbf</td>\n",
       "      <td>{'SVC__C': 9, 'SVC__degree': 3, 'SVC__kernel':...</td>\n",
       "      <td>0.801347</td>\n",
       "      <td>0.824916</td>\n",
       "      <td>0.828283</td>\n",
       "      <td>0.818182</td>\n",
       "      <td>0.011983</td>\n",
       "      <td>3</td>\n",
       "    </tr>\n",
       "    <tr>\n",
       "      <th>2</th>\n",
       "      <td>0.033658</td>\n",
       "      <td>0.007491</td>\n",
       "      <td>0.009989</td>\n",
       "      <td>0.000130</td>\n",
       "      <td>4</td>\n",
       "      <td>3</td>\n",
       "      <td>linear</td>\n",
       "      <td>{'SVC__C': 4, 'SVC__degree': 3, 'SVC__kernel':...</td>\n",
       "      <td>0.791246</td>\n",
       "      <td>0.797980</td>\n",
       "      <td>0.771044</td>\n",
       "      <td>0.786756</td>\n",
       "      <td>0.011446</td>\n",
       "      <td>4</td>\n",
       "    </tr>\n",
       "    <tr>\n",
       "      <th>9</th>\n",
       "      <td>0.041670</td>\n",
       "      <td>0.011148</td>\n",
       "      <td>0.010024</td>\n",
       "      <td>0.000069</td>\n",
       "      <td>9</td>\n",
       "      <td>7</td>\n",
       "      <td>linear</td>\n",
       "      <td>{'SVC__C': 9, 'SVC__degree': 7, 'SVC__kernel':...</td>\n",
       "      <td>0.791246</td>\n",
       "      <td>0.797980</td>\n",
       "      <td>0.771044</td>\n",
       "      <td>0.786756</td>\n",
       "      <td>0.011446</td>\n",
       "      <td>4</td>\n",
       "    </tr>\n",
       "    <tr>\n",
       "      <th>1</th>\n",
       "      <td>0.044309</td>\n",
       "      <td>0.004344</td>\n",
       "      <td>0.010398</td>\n",
       "      <td>0.000063</td>\n",
       "      <td>9</td>\n",
       "      <td>9</td>\n",
       "      <td>poly</td>\n",
       "      <td>{'SVC__C': 9, 'SVC__degree': 9, 'SVC__kernel':...</td>\n",
       "      <td>0.747475</td>\n",
       "      <td>0.801347</td>\n",
       "      <td>0.774411</td>\n",
       "      <td>0.774411</td>\n",
       "      <td>0.021993</td>\n",
       "      <td>6</td>\n",
       "    </tr>\n",
       "    <tr>\n",
       "      <th>5</th>\n",
       "      <td>0.027841</td>\n",
       "      <td>0.000972</td>\n",
       "      <td>0.012178</td>\n",
       "      <td>0.000139</td>\n",
       "      <td>1</td>\n",
       "      <td>9</td>\n",
       "      <td>sigmoid</td>\n",
       "      <td>{'SVC__C': 1, 'SVC__degree': 9, 'SVC__kernel':...</td>\n",
       "      <td>0.649832</td>\n",
       "      <td>0.666667</td>\n",
       "      <td>0.690236</td>\n",
       "      <td>0.668911</td>\n",
       "      <td>0.016571</td>\n",
       "      <td>7</td>\n",
       "    </tr>\n",
       "    <tr>\n",
       "      <th>0</th>\n",
       "      <td>0.028082</td>\n",
       "      <td>0.001054</td>\n",
       "      <td>0.012003</td>\n",
       "      <td>0.000256</td>\n",
       "      <td>4</td>\n",
       "      <td>6</td>\n",
       "      <td>sigmoid</td>\n",
       "      <td>{'SVC__C': 4, 'SVC__degree': 6, 'SVC__kernel':...</td>\n",
       "      <td>0.649832</td>\n",
       "      <td>0.653199</td>\n",
       "      <td>0.686869</td>\n",
       "      <td>0.663300</td>\n",
       "      <td>0.016722</td>\n",
       "      <td>8</td>\n",
       "    </tr>\n",
       "    <tr>\n",
       "      <th>6</th>\n",
       "      <td>0.026815</td>\n",
       "      <td>0.000517</td>\n",
       "      <td>0.011611</td>\n",
       "      <td>0.000241</td>\n",
       "      <td>4</td>\n",
       "      <td>4</td>\n",
       "      <td>sigmoid</td>\n",
       "      <td>{'SVC__C': 4, 'SVC__degree': 4, 'SVC__kernel':...</td>\n",
       "      <td>0.649832</td>\n",
       "      <td>0.653199</td>\n",
       "      <td>0.686869</td>\n",
       "      <td>0.663300</td>\n",
       "      <td>0.016722</td>\n",
       "      <td>8</td>\n",
       "    </tr>\n",
       "    <tr>\n",
       "      <th>7</th>\n",
       "      <td>0.026967</td>\n",
       "      <td>0.000881</td>\n",
       "      <td>0.011774</td>\n",
       "      <td>0.000161</td>\n",
       "      <td>4</td>\n",
       "      <td>5</td>\n",
       "      <td>sigmoid</td>\n",
       "      <td>{'SVC__C': 4, 'SVC__degree': 5, 'SVC__kernel':...</td>\n",
       "      <td>0.649832</td>\n",
       "      <td>0.653199</td>\n",
       "      <td>0.686869</td>\n",
       "      <td>0.663300</td>\n",
       "      <td>0.016722</td>\n",
       "      <td>8</td>\n",
       "    </tr>\n",
       "  </tbody>\n",
       "</table>\n",
       "</div>"
      ],
      "text/plain": [
       "   mean_fit_time  std_fit_time  mean_score_time  std_score_time param_SVC__C  \\\n",
       "3       0.026816      0.000434         0.012953        0.000371            5   \n",
       "8       0.026817      0.000600         0.012415        0.000173            8   \n",
       "4       0.027538      0.000672         0.012713        0.000205            9   \n",
       "2       0.033658      0.007491         0.009989        0.000130            4   \n",
       "9       0.041670      0.011148         0.010024        0.000069            9   \n",
       "1       0.044309      0.004344         0.010398        0.000063            9   \n",
       "5       0.027841      0.000972         0.012178        0.000139            1   \n",
       "0       0.028082      0.001054         0.012003        0.000256            4   \n",
       "6       0.026815      0.000517         0.011611        0.000241            4   \n",
       "7       0.026967      0.000881         0.011774        0.000161            4   \n",
       "\n",
       "  param_SVC__degree param_SVC__kernel  \\\n",
       "3                 9               rbf   \n",
       "8                 7               rbf   \n",
       "4                 3               rbf   \n",
       "2                 3            linear   \n",
       "9                 7            linear   \n",
       "1                 9              poly   \n",
       "5                 9           sigmoid   \n",
       "0                 6           sigmoid   \n",
       "6                 4           sigmoid   \n",
       "7                 5           sigmoid   \n",
       "\n",
       "                                              params  split0_test_score  \\\n",
       "3  {'SVC__C': 5, 'SVC__degree': 9, 'SVC__kernel':...           0.808081   \n",
       "8  {'SVC__C': 8, 'SVC__degree': 7, 'SVC__kernel':...           0.808081   \n",
       "4  {'SVC__C': 9, 'SVC__degree': 3, 'SVC__kernel':...           0.801347   \n",
       "2  {'SVC__C': 4, 'SVC__degree': 3, 'SVC__kernel':...           0.791246   \n",
       "9  {'SVC__C': 9, 'SVC__degree': 7, 'SVC__kernel':...           0.791246   \n",
       "1  {'SVC__C': 9, 'SVC__degree': 9, 'SVC__kernel':...           0.747475   \n",
       "5  {'SVC__C': 1, 'SVC__degree': 9, 'SVC__kernel':...           0.649832   \n",
       "0  {'SVC__C': 4, 'SVC__degree': 6, 'SVC__kernel':...           0.649832   \n",
       "6  {'SVC__C': 4, 'SVC__degree': 4, 'SVC__kernel':...           0.649832   \n",
       "7  {'SVC__C': 4, 'SVC__degree': 5, 'SVC__kernel':...           0.649832   \n",
       "\n",
       "   split1_test_score  split2_test_score  mean_test_score  std_test_score  \\\n",
       "3           0.824916           0.838384         0.823793        0.012397   \n",
       "8           0.824916           0.831650         0.821549        0.009912   \n",
       "4           0.824916           0.828283         0.818182        0.011983   \n",
       "2           0.797980           0.771044         0.786756        0.011446   \n",
       "9           0.797980           0.771044         0.786756        0.011446   \n",
       "1           0.801347           0.774411         0.774411        0.021993   \n",
       "5           0.666667           0.690236         0.668911        0.016571   \n",
       "0           0.653199           0.686869         0.663300        0.016722   \n",
       "6           0.653199           0.686869         0.663300        0.016722   \n",
       "7           0.653199           0.686869         0.663300        0.016722   \n",
       "\n",
       "   rank_test_score  \n",
       "3                1  \n",
       "8                2  \n",
       "4                3  \n",
       "2                4  \n",
       "9                4  \n",
       "1                6  \n",
       "5                7  \n",
       "0                8  \n",
       "6                8  \n",
       "7                8  "
      ]
     },
     "execution_count": 37,
     "metadata": {},
     "output_type": "execute_result"
    }
   ],
   "source": [
    "cv_res = pd.DataFrame(Random_search_svc.cv_results_)\n",
    "cv_res.sort_values(by=\"mean_test_score\",ascending=False, inplace=True)\n",
    "[...]\n",
    "cv_res\n"
   ]
  },
  {
   "cell_type": "code",
   "execution_count": 38,
   "id": "89ec2b33",
   "metadata": {
    "execution": {
     "iopub.execute_input": "2024-08-26T19:37:31.875613Z",
     "iopub.status.busy": "2024-08-26T19:37:31.875191Z",
     "iopub.status.idle": "2024-08-26T19:37:31.910837Z",
     "shell.execute_reply": "2024-08-26T19:37:31.909787Z"
    },
    "papermill": {
     "duration": 0.062361,
     "end_time": "2024-08-26T19:37:31.913353",
     "exception": false,
     "start_time": "2024-08-26T19:37:31.850992",
     "status": "completed"
    },
    "tags": []
   },
   "outputs": [],
   "source": [
    "Y_pred = svc_final_model.predict(X_train)"
   ]
  },
  {
   "cell_type": "code",
   "execution_count": 39,
   "id": "eddd9028",
   "metadata": {
    "execution": {
     "iopub.execute_input": "2024-08-26T19:37:31.961173Z",
     "iopub.status.busy": "2024-08-26T19:37:31.960778Z",
     "iopub.status.idle": "2024-08-26T19:37:31.976228Z",
     "shell.execute_reply": "2024-08-26T19:37:31.975127Z"
    },
    "papermill": {
     "duration": 0.042196,
     "end_time": "2024-08-26T19:37:31.978610",
     "exception": false,
     "start_time": "2024-08-26T19:37:31.936414",
     "status": "completed"
    },
    "tags": []
   },
   "outputs": [
    {
     "name": "stdout",
     "output_type": "stream",
     "text": [
      "              precision    recall  f1-score   support\n",
      "\n",
      "         0.0       0.95      0.82      0.88       637\n",
      "         1.0       0.67      0.90      0.77       254\n",
      "\n",
      "    accuracy                           0.84       891\n",
      "   macro avg       0.81      0.86      0.82       891\n",
      "weighted avg       0.87      0.84      0.85       891\n",
      "\n"
     ]
    }
   ],
   "source": [
    "acc = classification_report(Y_pred,Y_train)\n",
    "print(acc)"
   ]
  },
  {
   "cell_type": "code",
   "execution_count": 40,
   "id": "81eded67",
   "metadata": {
    "execution": {
     "iopub.execute_input": "2024-08-26T19:37:32.027078Z",
     "iopub.status.busy": "2024-08-26T19:37:32.026716Z",
     "iopub.status.idle": "2024-08-26T19:37:32.032670Z",
     "shell.execute_reply": "2024-08-26T19:37:32.031670Z"
    },
    "papermill": {
     "duration": 0.033015,
     "end_time": "2024-08-26T19:37:32.034879",
     "exception": false,
     "start_time": "2024-08-26T19:37:32.001864",
     "status": "completed"
    },
    "tags": []
   },
   "outputs": [],
   "source": [
    "X_test =  test_data[['Pclass', 'Sex', 'Age', \n",
    "       'Fare', 'Embarked', 'Family_Size']]\n"
   ]
  },
  {
   "cell_type": "code",
   "execution_count": 41,
   "id": "a01e2c42",
   "metadata": {
    "execution": {
     "iopub.execute_input": "2024-08-26T19:37:32.082916Z",
     "iopub.status.busy": "2024-08-26T19:37:32.082536Z",
     "iopub.status.idle": "2024-08-26T19:37:32.105973Z",
     "shell.execute_reply": "2024-08-26T19:37:32.104809Z"
    },
    "papermill": {
     "duration": 0.051383,
     "end_time": "2024-08-26T19:37:32.109143",
     "exception": false,
     "start_time": "2024-08-26T19:37:32.057760",
     "status": "completed"
    },
    "tags": []
   },
   "outputs": [],
   "source": [
    "svc_test_predict = svc_final_model.predict(X_test)"
   ]
  },
  {
   "cell_type": "markdown",
   "id": "f76446b2",
   "metadata": {
    "papermill": {
     "duration": 0.023073,
     "end_time": "2024-08-26T19:37:32.155973",
     "exception": false,
     "start_time": "2024-08-26T19:37:32.132900",
     "status": "completed"
    },
    "tags": []
   },
   "source": [
    "### Using a Random Forest Classifier"
   ]
  },
  {
   "cell_type": "code",
   "execution_count": 42,
   "id": "e896d92d",
   "metadata": {
    "execution": {
     "iopub.execute_input": "2024-08-26T19:37:32.204454Z",
     "iopub.status.busy": "2024-08-26T19:37:32.203526Z",
     "iopub.status.idle": "2024-08-26T19:37:57.574503Z",
     "shell.execute_reply": "2024-08-26T19:37:57.573488Z"
    },
    "papermill": {
     "duration": 25.397719,
     "end_time": "2024-08-26T19:37:57.576796",
     "exception": false,
     "start_time": "2024-08-26T19:37:32.179077",
     "status": "completed"
    },
    "tags": []
   },
   "outputs": [
    {
     "data": {
      "text/html": [
       "<style>#sk-container-id-2 {color: black;background-color: white;}#sk-container-id-2 pre{padding: 0;}#sk-container-id-2 div.sk-toggleable {background-color: white;}#sk-container-id-2 label.sk-toggleable__label {cursor: pointer;display: block;width: 100%;margin-bottom: 0;padding: 0.3em;box-sizing: border-box;text-align: center;}#sk-container-id-2 label.sk-toggleable__label-arrow:before {content: \"▸\";float: left;margin-right: 0.25em;color: #696969;}#sk-container-id-2 label.sk-toggleable__label-arrow:hover:before {color: black;}#sk-container-id-2 div.sk-estimator:hover label.sk-toggleable__label-arrow:before {color: black;}#sk-container-id-2 div.sk-toggleable__content {max-height: 0;max-width: 0;overflow: hidden;text-align: left;background-color: #f0f8ff;}#sk-container-id-2 div.sk-toggleable__content pre {margin: 0.2em;color: black;border-radius: 0.25em;background-color: #f0f8ff;}#sk-container-id-2 input.sk-toggleable__control:checked~div.sk-toggleable__content {max-height: 200px;max-width: 100%;overflow: auto;}#sk-container-id-2 input.sk-toggleable__control:checked~label.sk-toggleable__label-arrow:before {content: \"▾\";}#sk-container-id-2 div.sk-estimator input.sk-toggleable__control:checked~label.sk-toggleable__label {background-color: #d4ebff;}#sk-container-id-2 div.sk-label input.sk-toggleable__control:checked~label.sk-toggleable__label {background-color: #d4ebff;}#sk-container-id-2 input.sk-hidden--visually {border: 0;clip: rect(1px 1px 1px 1px);clip: rect(1px, 1px, 1px, 1px);height: 1px;margin: -1px;overflow: hidden;padding: 0;position: absolute;width: 1px;}#sk-container-id-2 div.sk-estimator {font-family: monospace;background-color: #f0f8ff;border: 1px dotted black;border-radius: 0.25em;box-sizing: border-box;margin-bottom: 0.5em;}#sk-container-id-2 div.sk-estimator:hover {background-color: #d4ebff;}#sk-container-id-2 div.sk-parallel-item::after {content: \"\";width: 100%;border-bottom: 1px solid gray;flex-grow: 1;}#sk-container-id-2 div.sk-label:hover label.sk-toggleable__label {background-color: #d4ebff;}#sk-container-id-2 div.sk-serial::before {content: \"\";position: absolute;border-left: 1px solid gray;box-sizing: border-box;top: 0;bottom: 0;left: 50%;z-index: 0;}#sk-container-id-2 div.sk-serial {display: flex;flex-direction: column;align-items: center;background-color: white;padding-right: 0.2em;padding-left: 0.2em;position: relative;}#sk-container-id-2 div.sk-item {position: relative;z-index: 1;}#sk-container-id-2 div.sk-parallel {display: flex;align-items: stretch;justify-content: center;background-color: white;position: relative;}#sk-container-id-2 div.sk-item::before, #sk-container-id-2 div.sk-parallel-item::before {content: \"\";position: absolute;border-left: 1px solid gray;box-sizing: border-box;top: 0;bottom: 0;left: 50%;z-index: -1;}#sk-container-id-2 div.sk-parallel-item {display: flex;flex-direction: column;z-index: 1;position: relative;background-color: white;}#sk-container-id-2 div.sk-parallel-item:first-child::after {align-self: flex-end;width: 50%;}#sk-container-id-2 div.sk-parallel-item:last-child::after {align-self: flex-start;width: 50%;}#sk-container-id-2 div.sk-parallel-item:only-child::after {width: 0;}#sk-container-id-2 div.sk-dashed-wrapped {border: 1px dashed gray;margin: 0 0.4em 0.5em 0.4em;box-sizing: border-box;padding-bottom: 0.4em;background-color: white;}#sk-container-id-2 div.sk-label label {font-family: monospace;font-weight: bold;display: inline-block;line-height: 1.2em;}#sk-container-id-2 div.sk-label-container {text-align: center;}#sk-container-id-2 div.sk-container {/* jupyter's `normalize.less` sets `[hidden] { display: none; }` but bootstrap.min.css set `[hidden] { display: none !important; }` so we also need the `!important` here to be able to override the default hidden behavior on the sphinx rendered scikit-learn.org. See: https://github.com/scikit-learn/scikit-learn/issues/21755 */display: inline-block !important;position: relative;}#sk-container-id-2 div.sk-text-repr-fallback {display: none;}</style><div id=\"sk-container-id-2\" class=\"sk-top-container\"><div class=\"sk-text-repr-fallback\"><pre>RandomizedSearchCV(cv=10,\n",
       "                   estimator=Pipeline(steps=[(&#x27;preprocessing&#x27;,\n",
       "                                              ColumnTransformer(transformers=[(&#x27;num&#x27;,\n",
       "                                                                               Pipeline(steps=[(&#x27;simpleimputer&#x27;,\n",
       "                                                                                                SimpleImputer(strategy=&#x27;median&#x27;)),\n",
       "                                                                                               (&#x27;standardscaler&#x27;,\n",
       "                                                                                                StandardScaler())]),\n",
       "                                                                               &lt;sklearn.compose._column_transformer.make_column_selector object at 0x7a26aec64910&gt;),\n",
       "                                                                              (&#x27;cat&#x27;,\n",
       "                                                                               Pipeline(steps=[(&#x27;simpleimputer&#x27;,\n",
       "                                                                                                SimpleImputer(st...\n",
       "                                                                               &lt;sklearn.compose._column_transformer.make_column_selector object at 0x7a26aec64dc0&gt;)])),\n",
       "                                             (&#x27;Random_forest&#x27;,\n",
       "                                              RandomForestClassifier(random_state=42))]),\n",
       "                   param_distributions=[{&#x27;Random_forest__max_features&#x27;: &lt;scipy.stats._distn_infrastructure.rv_discrete_frozen object at 0x7a26aec65150&gt;,\n",
       "                                         &#x27;Random_forest__min_samples_leaf&#x27;: &lt;scipy.stats._distn_infrastructure.rv_discrete_frozen object at 0x7a26ae80c460&gt;}])</pre><b>In a Jupyter environment, please rerun this cell to show the HTML representation or trust the notebook. <br />On GitHub, the HTML representation is unable to render, please try loading this page with nbviewer.org.</b></div><div class=\"sk-container\" hidden><div class=\"sk-item sk-dashed-wrapped\"><div class=\"sk-label-container\"><div class=\"sk-label sk-toggleable\"><input class=\"sk-toggleable__control sk-hidden--visually\" id=\"sk-estimator-id-11\" type=\"checkbox\" ><label for=\"sk-estimator-id-11\" class=\"sk-toggleable__label sk-toggleable__label-arrow\">RandomizedSearchCV</label><div class=\"sk-toggleable__content\"><pre>RandomizedSearchCV(cv=10,\n",
       "                   estimator=Pipeline(steps=[(&#x27;preprocessing&#x27;,\n",
       "                                              ColumnTransformer(transformers=[(&#x27;num&#x27;,\n",
       "                                                                               Pipeline(steps=[(&#x27;simpleimputer&#x27;,\n",
       "                                                                                                SimpleImputer(strategy=&#x27;median&#x27;)),\n",
       "                                                                                               (&#x27;standardscaler&#x27;,\n",
       "                                                                                                StandardScaler())]),\n",
       "                                                                               &lt;sklearn.compose._column_transformer.make_column_selector object at 0x7a26aec64910&gt;),\n",
       "                                                                              (&#x27;cat&#x27;,\n",
       "                                                                               Pipeline(steps=[(&#x27;simpleimputer&#x27;,\n",
       "                                                                                                SimpleImputer(st...\n",
       "                                                                               &lt;sklearn.compose._column_transformer.make_column_selector object at 0x7a26aec64dc0&gt;)])),\n",
       "                                             (&#x27;Random_forest&#x27;,\n",
       "                                              RandomForestClassifier(random_state=42))]),\n",
       "                   param_distributions=[{&#x27;Random_forest__max_features&#x27;: &lt;scipy.stats._distn_infrastructure.rv_discrete_frozen object at 0x7a26aec65150&gt;,\n",
       "                                         &#x27;Random_forest__min_samples_leaf&#x27;: &lt;scipy.stats._distn_infrastructure.rv_discrete_frozen object at 0x7a26ae80c460&gt;}])</pre></div></div></div><div class=\"sk-parallel\"><div class=\"sk-parallel-item\"><div class=\"sk-item\"><div class=\"sk-label-container\"><div class=\"sk-label sk-toggleable\"><input class=\"sk-toggleable__control sk-hidden--visually\" id=\"sk-estimator-id-12\" type=\"checkbox\" ><label for=\"sk-estimator-id-12\" class=\"sk-toggleable__label sk-toggleable__label-arrow\">estimator: Pipeline</label><div class=\"sk-toggleable__content\"><pre>Pipeline(steps=[(&#x27;preprocessing&#x27;,\n",
       "                 ColumnTransformer(transformers=[(&#x27;num&#x27;,\n",
       "                                                  Pipeline(steps=[(&#x27;simpleimputer&#x27;,\n",
       "                                                                   SimpleImputer(strategy=&#x27;median&#x27;)),\n",
       "                                                                  (&#x27;standardscaler&#x27;,\n",
       "                                                                   StandardScaler())]),\n",
       "                                                  &lt;sklearn.compose._column_transformer.make_column_selector object at 0x7a26aec64910&gt;),\n",
       "                                                 (&#x27;cat&#x27;,\n",
       "                                                  Pipeline(steps=[(&#x27;simpleimputer&#x27;,\n",
       "                                                                   SimpleImputer(strategy=&#x27;most_frequent&#x27;)),\n",
       "                                                                  (&#x27;onehotencoder&#x27;,\n",
       "                                                                   OneHotEncoder(handle_unknown=&#x27;ignore&#x27;))]),\n",
       "                                                  &lt;sklearn.compose._column_transformer.make_column_selector object at 0x7a26aec64dc0&gt;)])),\n",
       "                (&#x27;Random_forest&#x27;, RandomForestClassifier(random_state=42))])</pre></div></div></div><div class=\"sk-serial\"><div class=\"sk-item\"><div class=\"sk-serial\"><div class=\"sk-item sk-dashed-wrapped\"><div class=\"sk-label-container\"><div class=\"sk-label sk-toggleable\"><input class=\"sk-toggleable__control sk-hidden--visually\" id=\"sk-estimator-id-13\" type=\"checkbox\" ><label for=\"sk-estimator-id-13\" class=\"sk-toggleable__label sk-toggleable__label-arrow\">preprocessing: ColumnTransformer</label><div class=\"sk-toggleable__content\"><pre>ColumnTransformer(transformers=[(&#x27;num&#x27;,\n",
       "                                 Pipeline(steps=[(&#x27;simpleimputer&#x27;,\n",
       "                                                  SimpleImputer(strategy=&#x27;median&#x27;)),\n",
       "                                                 (&#x27;standardscaler&#x27;,\n",
       "                                                  StandardScaler())]),\n",
       "                                 &lt;sklearn.compose._column_transformer.make_column_selector object at 0x7a26aec64910&gt;),\n",
       "                                (&#x27;cat&#x27;,\n",
       "                                 Pipeline(steps=[(&#x27;simpleimputer&#x27;,\n",
       "                                                  SimpleImputer(strategy=&#x27;most_frequent&#x27;)),\n",
       "                                                 (&#x27;onehotencoder&#x27;,\n",
       "                                                  OneHotEncoder(handle_unknown=&#x27;ignore&#x27;))]),\n",
       "                                 &lt;sklearn.compose._column_transformer.make_column_selector object at 0x7a26aec64dc0&gt;)])</pre></div></div></div><div class=\"sk-parallel\"><div class=\"sk-parallel-item\"><div class=\"sk-item\"><div class=\"sk-label-container\"><div class=\"sk-label sk-toggleable\"><input class=\"sk-toggleable__control sk-hidden--visually\" id=\"sk-estimator-id-14\" type=\"checkbox\" ><label for=\"sk-estimator-id-14\" class=\"sk-toggleable__label sk-toggleable__label-arrow\">num</label><div class=\"sk-toggleable__content\"><pre>&lt;sklearn.compose._column_transformer.make_column_selector object at 0x7a26aec64910&gt;</pre></div></div></div><div class=\"sk-serial\"><div class=\"sk-item\"><div class=\"sk-serial\"><div class=\"sk-item\"><div class=\"sk-estimator sk-toggleable\"><input class=\"sk-toggleable__control sk-hidden--visually\" id=\"sk-estimator-id-15\" type=\"checkbox\" ><label for=\"sk-estimator-id-15\" class=\"sk-toggleable__label sk-toggleable__label-arrow\">SimpleImputer</label><div class=\"sk-toggleable__content\"><pre>SimpleImputer(strategy=&#x27;median&#x27;)</pre></div></div></div><div class=\"sk-item\"><div class=\"sk-estimator sk-toggleable\"><input class=\"sk-toggleable__control sk-hidden--visually\" id=\"sk-estimator-id-16\" type=\"checkbox\" ><label for=\"sk-estimator-id-16\" class=\"sk-toggleable__label sk-toggleable__label-arrow\">StandardScaler</label><div class=\"sk-toggleable__content\"><pre>StandardScaler()</pre></div></div></div></div></div></div></div></div><div class=\"sk-parallel-item\"><div class=\"sk-item\"><div class=\"sk-label-container\"><div class=\"sk-label sk-toggleable\"><input class=\"sk-toggleable__control sk-hidden--visually\" id=\"sk-estimator-id-17\" type=\"checkbox\" ><label for=\"sk-estimator-id-17\" class=\"sk-toggleable__label sk-toggleable__label-arrow\">cat</label><div class=\"sk-toggleable__content\"><pre>&lt;sklearn.compose._column_transformer.make_column_selector object at 0x7a26aec64dc0&gt;</pre></div></div></div><div class=\"sk-serial\"><div class=\"sk-item\"><div class=\"sk-serial\"><div class=\"sk-item\"><div class=\"sk-estimator sk-toggleable\"><input class=\"sk-toggleable__control sk-hidden--visually\" id=\"sk-estimator-id-18\" type=\"checkbox\" ><label for=\"sk-estimator-id-18\" class=\"sk-toggleable__label sk-toggleable__label-arrow\">SimpleImputer</label><div class=\"sk-toggleable__content\"><pre>SimpleImputer(strategy=&#x27;most_frequent&#x27;)</pre></div></div></div><div class=\"sk-item\"><div class=\"sk-estimator sk-toggleable\"><input class=\"sk-toggleable__control sk-hidden--visually\" id=\"sk-estimator-id-19\" type=\"checkbox\" ><label for=\"sk-estimator-id-19\" class=\"sk-toggleable__label sk-toggleable__label-arrow\">OneHotEncoder</label><div class=\"sk-toggleable__content\"><pre>OneHotEncoder(handle_unknown=&#x27;ignore&#x27;)</pre></div></div></div></div></div></div></div></div></div></div><div class=\"sk-item\"><div class=\"sk-estimator sk-toggleable\"><input class=\"sk-toggleable__control sk-hidden--visually\" id=\"sk-estimator-id-20\" type=\"checkbox\" ><label for=\"sk-estimator-id-20\" class=\"sk-toggleable__label sk-toggleable__label-arrow\">RandomForestClassifier</label><div class=\"sk-toggleable__content\"><pre>RandomForestClassifier(random_state=42)</pre></div></div></div></div></div></div></div></div></div></div></div></div>"
      ],
      "text/plain": [
       "RandomizedSearchCV(cv=10,\n",
       "                   estimator=Pipeline(steps=[('preprocessing',\n",
       "                                              ColumnTransformer(transformers=[('num',\n",
       "                                                                               Pipeline(steps=[('simpleimputer',\n",
       "                                                                                                SimpleImputer(strategy='median')),\n",
       "                                                                                               ('standardscaler',\n",
       "                                                                                                StandardScaler())]),\n",
       "                                                                               <sklearn.compose._column_transformer.make_column_selector object at 0x7a26aec64910>),\n",
       "                                                                              ('cat',\n",
       "                                                                               Pipeline(steps=[('simpleimputer',\n",
       "                                                                                                SimpleImputer(st...\n",
       "                                                                               <sklearn.compose._column_transformer.make_column_selector object at 0x7a26aec64dc0>)])),\n",
       "                                             ('Random_forest',\n",
       "                                              RandomForestClassifier(random_state=42))]),\n",
       "                   param_distributions=[{'Random_forest__max_features': <scipy.stats._distn_infrastructure.rv_discrete_frozen object at 0x7a26aec65150>,\n",
       "                                         'Random_forest__min_samples_leaf': <scipy.stats._distn_infrastructure.rv_discrete_frozen object at 0x7a26ae80c460>}])"
      ]
     },
     "execution_count": 42,
     "metadata": {},
     "output_type": "execute_result"
    }
   ],
   "source": [
    "\n",
    "Random_Forest_model = Pipeline(\n",
    "[\n",
    "    (\"preprocessing\", preprocessing),\n",
    "    (\"Random_forest\", RandomForestClassifier(random_state=42))\n",
    "])\n",
    "\n",
    "parameters_rf = [{\"Random_forest__max_features\": randint(1,10),\n",
    "                 \"Random_forest__min_samples_leaf\":randint(1,5)}]\n",
    "\n",
    "Random_forest_cv = RandomizedSearchCV(Random_Forest_model,param_distributions=parameters_rf,cv=10)\n",
    "\n",
    "Random_forest_cv.fit(X_train,Y_train)\n"
   ]
  },
  {
   "cell_type": "code",
   "execution_count": 43,
   "id": "1eb0f0f5",
   "metadata": {
    "execution": {
     "iopub.execute_input": "2024-08-26T19:37:57.625905Z",
     "iopub.status.busy": "2024-08-26T19:37:57.625511Z",
     "iopub.status.idle": "2024-08-26T19:37:57.630398Z",
     "shell.execute_reply": "2024-08-26T19:37:57.629370Z"
    },
    "papermill": {
     "duration": 0.031927,
     "end_time": "2024-08-26T19:37:57.632507",
     "exception": false,
     "start_time": "2024-08-26T19:37:57.600580",
     "status": "completed"
    },
    "tags": []
   },
   "outputs": [],
   "source": [
    "Rf_final_model = Random_forest_cv.best_estimator_\n"
   ]
  },
  {
   "cell_type": "code",
   "execution_count": 44,
   "id": "01d68067",
   "metadata": {
    "execution": {
     "iopub.execute_input": "2024-08-26T19:37:57.681510Z",
     "iopub.status.busy": "2024-08-26T19:37:57.681092Z",
     "iopub.status.idle": "2024-08-26T19:37:57.719508Z",
     "shell.execute_reply": "2024-08-26T19:37:57.718473Z"
    },
    "papermill": {
     "duration": 0.066013,
     "end_time": "2024-08-26T19:37:57.722111",
     "exception": false,
     "start_time": "2024-08-26T19:37:57.656098",
     "status": "completed"
    },
    "tags": []
   },
   "outputs": [],
   "source": [
    "Y_pred_rf = Rf_final_model.predict(X_train)\n",
    "acc_rf = classification_report(Y_pred_rf,Y_train)"
   ]
  },
  {
   "cell_type": "code",
   "execution_count": 45,
   "id": "97414eaa",
   "metadata": {
    "execution": {
     "iopub.execute_input": "2024-08-26T19:37:57.771664Z",
     "iopub.status.busy": "2024-08-26T19:37:57.771280Z",
     "iopub.status.idle": "2024-08-26T19:37:57.776700Z",
     "shell.execute_reply": "2024-08-26T19:37:57.775666Z"
    },
    "papermill": {
     "duration": 0.032572,
     "end_time": "2024-08-26T19:37:57.779025",
     "exception": false,
     "start_time": "2024-08-26T19:37:57.746453",
     "status": "completed"
    },
    "tags": []
   },
   "outputs": [
    {
     "name": "stdout",
     "output_type": "stream",
     "text": [
      "              precision    recall  f1-score   support\n",
      "\n",
      "         0.0       0.95      0.88      0.92       590\n",
      "         1.0       0.80      0.91      0.85       301\n",
      "\n",
      "    accuracy                           0.89       891\n",
      "   macro avg       0.88      0.90      0.88       891\n",
      "weighted avg       0.90      0.89      0.89       891\n",
      "\n"
     ]
    }
   ],
   "source": [
    "print(acc_rf)"
   ]
  },
  {
   "cell_type": "code",
   "execution_count": null,
   "id": "3b366c7e",
   "metadata": {
    "execution": {
     "iopub.status.busy": "2024-08-26T18:14:32.626542Z",
     "iopub.status.idle": "2024-08-26T18:14:32.627077Z",
     "shell.execute_reply": "2024-08-26T18:14:32.626803Z",
     "shell.execute_reply.started": "2024-08-26T18:14:32.626780Z"
    },
    "papermill": {
     "duration": 0.024233,
     "end_time": "2024-08-26T19:37:57.827448",
     "exception": false,
     "start_time": "2024-08-26T19:37:57.803215",
     "status": "completed"
    },
    "tags": []
   },
   "outputs": [],
   "source": []
  },
  {
   "cell_type": "code",
   "execution_count": null,
   "id": "11da9dc2",
   "metadata": {
    "execution": {
     "iopub.status.busy": "2024-08-26T18:14:32.628404Z",
     "iopub.status.idle": "2024-08-26T18:14:32.628770Z",
     "shell.execute_reply": "2024-08-26T18:14:32.628605Z",
     "shell.execute_reply.started": "2024-08-26T18:14:32.628589Z"
    },
    "papermill": {
     "duration": 0.023833,
     "end_time": "2024-08-26T19:37:57.876003",
     "exception": false,
     "start_time": "2024-08-26T19:37:57.852170",
     "status": "completed"
    },
    "tags": []
   },
   "outputs": [],
   "source": []
  },
  {
   "cell_type": "code",
   "execution_count": null,
   "id": "ea7a6d35",
   "metadata": {
    "execution": {
     "iopub.status.busy": "2024-08-26T18:14:32.630354Z",
     "iopub.status.idle": "2024-08-26T18:14:32.630731Z",
     "shell.execute_reply": "2024-08-26T18:14:32.630549Z",
     "shell.execute_reply.started": "2024-08-26T18:14:32.630533Z"
    },
    "papermill": {
     "duration": 0.023637,
     "end_time": "2024-08-26T19:37:57.924144",
     "exception": false,
     "start_time": "2024-08-26T19:37:57.900507",
     "status": "completed"
    },
    "tags": []
   },
   "outputs": [],
   "source": [
    "\n"
   ]
  },
  {
   "cell_type": "code",
   "execution_count": null,
   "id": "f2cb38bc",
   "metadata": {
    "execution": {
     "iopub.status.busy": "2024-08-26T18:14:32.631635Z",
     "iopub.status.idle": "2024-08-26T18:14:32.632043Z",
     "shell.execute_reply": "2024-08-26T18:14:32.631833Z",
     "shell.execute_reply.started": "2024-08-26T18:14:32.631816Z"
    },
    "papermill": {
     "duration": 0.023583,
     "end_time": "2024-08-26T19:37:57.971720",
     "exception": false,
     "start_time": "2024-08-26T19:37:57.948137",
     "status": "completed"
    },
    "tags": []
   },
   "outputs": [],
   "source": []
  },
  {
   "cell_type": "code",
   "execution_count": 46,
   "id": "2aff5e0c",
   "metadata": {
    "execution": {
     "iopub.execute_input": "2024-08-26T19:37:58.021231Z",
     "iopub.status.busy": "2024-08-26T19:37:58.020825Z",
     "iopub.status.idle": "2024-08-26T19:37:58.048408Z",
     "shell.execute_reply": "2024-08-26T19:37:58.047197Z"
    },
    "papermill": {
     "duration": 0.054968,
     "end_time": "2024-08-26T19:37:58.050768",
     "exception": false,
     "start_time": "2024-08-26T19:37:57.995800",
     "status": "completed"
    },
    "tags": []
   },
   "outputs": [
    {
     "name": "stdout",
     "output_type": "stream",
     "text": [
      "             Survived\n",
      "PassengerId          \n",
      "892               0.0\n",
      "893               0.0\n",
      "894               0.0\n",
      "895               0.0\n",
      "896               1.0\n",
      "...               ...\n",
      "1305              0.0\n",
      "1306              1.0\n",
      "1307              0.0\n",
      "1308              0.0\n",
      "1309              0.0\n",
      "\n",
      "[418 rows x 1 columns]\n"
     ]
    }
   ],
   "source": [
    "y_pred = pd.DataFrame({'Survived':Rf_final_model.predict(X_test)},index = test_data.index)\n",
    "print(y_pred)"
   ]
  },
  {
   "cell_type": "code",
   "execution_count": 47,
   "id": "732da9b1",
   "metadata": {
    "execution": {
     "iopub.execute_input": "2024-08-26T19:37:58.102374Z",
     "iopub.status.busy": "2024-08-26T19:37:58.101952Z",
     "iopub.status.idle": "2024-08-26T19:37:58.109482Z",
     "shell.execute_reply": "2024-08-26T19:37:58.108478Z"
    },
    "papermill": {
     "duration": 0.037128,
     "end_time": "2024-08-26T19:37:58.111688",
     "exception": false,
     "start_time": "2024-08-26T19:37:58.074560",
     "status": "completed"
    },
    "tags": []
   },
   "outputs": [],
   "source": [
    "y_pred.to_csv('submission.csv', index = False)"
   ]
  }
 ],
 "metadata": {
  "kaggle": {
   "accelerator": "none",
   "dataSources": [
    {
     "databundleVersionId": 26502,
     "sourceId": 3136,
     "sourceType": "competition"
    }
   ],
   "dockerImageVersionId": 30646,
   "isGpuEnabled": false,
   "isInternetEnabled": true,
   "language": "python",
   "sourceType": "notebook"
  },
  "kernelspec": {
   "display_name": "Python 3",
   "language": "python",
   "name": "python3"
  },
  "language_info": {
   "codemirror_mode": {
    "name": "ipython",
    "version": 3
   },
   "file_extension": ".py",
   "mimetype": "text/x-python",
   "name": "python",
   "nbconvert_exporter": "python",
   "pygments_lexer": "ipython3",
   "version": "3.10.13"
  },
  "papermill": {
   "default_parameters": {},
   "duration": 43.255553,
   "end_time": "2024-08-26T19:37:58.857951",
   "environment_variables": {},
   "exception": null,
   "input_path": "__notebook__.ipynb",
   "output_path": "__notebook__.ipynb",
   "parameters": {},
   "start_time": "2024-08-26T19:37:15.602398",
   "version": "2.5.0"
  }
 },
 "nbformat": 4,
 "nbformat_minor": 5
}
